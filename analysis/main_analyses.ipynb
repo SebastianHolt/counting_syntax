{
 "cells": [
  {
   "cell_type": "markdown",
   "metadata": {},
   "source": [
    "<a name=\"intro\"></a>\n",
    "# Counting Syntax\n",
    "\n",
    "Except where it was easier to perform similar analyses together, this sequence largely tracks the order of statistics and analyses in the manuscript. Analyses and figures are kept separate, however. Linear models can be found in the accompanying R file"
   ]
  },
  {
   "cell_type": "markdown",
   "metadata": {},
   "source": [
    "<a name=\"top\"></a>\n",
    "## Contents\n",
    "\n",
    "1. [Import Packages](#import)\n",
    "2. [Retrieve Data from Mongo](#mongo)\n",
    "3. [Make Exclusions](#exclude)\n",
    "4. [Define Helper Functions](#functions)\n",
    "\n",
    "\n",
    "5. [Add Derived Columns](#new_cols)  \n",
    "    5.0 [Rename Columns](#rename)  \n",
    "    5.1 [Re-Format Generalization Trials](#genDF)  \n",
    "    5.2 [Retype Columns](#astype)  \n",
    "    5.3 [Parse Rules of Composition](#rules)  \n",
    "    5.4 [Cut up Data & Save to CSV](#saveout)\n",
    "    \n",
    " \n",
    "6. [Summary Statistics](#summaries)\n",
    "\n",
    "\n",
    "7. [Figures](#figures)      \n",
    "    7.1. [Figure 2](#fig2)  \n",
    "    7.2. [Figure 3](#fig3)  \n",
    "    7.3. [Figure 4](#fig4)  \n",
    "   \n",
    "   \n",
    "8. [Simpsons Diversity Measure](#simpsons)"
   ]
  },
  {
   "cell_type": "markdown",
   "metadata": {},
   "source": [
    "# <a name=\"import\"></a> 1. Import Packages ([top](#top))"
   ]
  },
  {
   "cell_type": "code",
   "execution_count": 1,
   "metadata": {},
   "outputs": [
    {
     "data": {
      "text/html": [
       "<style>.container { width:90% !important; }</style>"
      ],
      "text/plain": [
       "<IPython.core.display.HTML object>"
      ]
     },
     "metadata": {},
     "output_type": "display_data"
    }
   ],
   "source": [
    "import os, sys\n",
    "import pymongo as pm\n",
    "import socket\n",
    "\n",
    "import numpy as np\n",
    "import scipy.stats as stats\n",
    "import math\n",
    "import pandas as pd\n",
    "import json\n",
    "import re\n",
    "from io import BytesIO\n",
    "import ast  # for interpreting strings as dictionary objects\n",
    "import itertools\n",
    "\n",
    "import matplotlib\n",
    "from matplotlib import pylab, mlab, pyplot\n",
    "import matplotlib.patches as mpatches\n",
    "from IPython.core.pylabtools import figsize, getfigs\n",
    "plt = pyplot\n",
    "import seaborn as sns\n",
    "sns.set_context('talk')\n",
    "sns.set_style('white')\n",
    "from matplotlib import rcParams\n",
    "matplotlib.rcParams.update(matplotlib.rcParamsDefault)\n",
    "matplotlib.rcParams['pdf.fonttype'] = 42\n",
    "\n",
    "from IPython.display import clear_output\n",
    "import importlib\n",
    "import warnings\n",
    "warnings.filterwarnings(\"ignore\", category=DeprecationWarning)\n",
    "warnings.filterwarnings(\"ignore\", message=\"numpy.dtype size changed\")\n",
    "warnings.filterwarnings(\"ignore\", message=\"numpy.ufunc size changed\")\n",
    "pd.set_option(\"display.max_rows\", None, \"display.max_columns\", None)\n",
    "from IPython.display import display, HTML\n",
    "display(HTML(\"<style>.container { width:90% !important; }</style>\"))\n"
   ]
  },
  {
   "cell_type": "code",
   "execution_count": 2,
   "metadata": {},
   "outputs": [],
   "source": [
    "d = .5 # how dispersed should the scatter dots be? Depends on width of bars\n",
    "fs = 12 # fontsize for text in the figure\n",
    "lw = 1.5 # linewidth for the errorbars\n",
    "cs = 0 # capsize for the errorbars\n",
    "ew = 0 # edgewidth for the errorbars\n",
    "ms = 5 # markerwidth for scatterplots\n",
    "% matplotlib inline"
   ]
  },
  {
   "cell_type": "markdown",
   "metadata": {},
   "source": [
    "# <a name=\"mongo\"></a> 2. Retrieve Data from Mongo ([top](#top))"
   ]
  },
  {
   "cell_type": "code",
   "execution_count": 3,
   "metadata": {},
   "outputs": [
    {
     "name": "stdout",
     "output_type": "stream",
     "text": [
      "Done\n"
     ]
    }
   ],
   "source": [
    "# set up connection to lab server\n",
    "! ssh -fNL 27020:127.0.0.1:27017 sholt@cogtoolslab.org\n",
    "\n",
    "# set vars\n",
    "auth = pd.read_csv(os.path.join(os.getcwd(),'auth.txt'), header = None) # this auth.txt file contains the password for the sketchloop user\n",
    "pswd = auth.values[0][0]\n",
    "user = 'sketchloop'\n",
    "host = 'cogtoolslab.org'\n",
    "\n",
    "# have to fix this to be able to analyze from local\n",
    "conn = pm.MongoClient('mongodb://sketchloop:' + pswd + '@127.0.0.1:27017')\n",
    "db = conn['num_syn']\n",
    "coll_1 = db['proof_of_concept'] # Experiment 1 data is here\n",
    "coll_2 = db['exp3']             # Experiment 2 data is here\n",
    "\n",
    "# Now connect to mongo and fetch the data we want, which we will store as a dataframe\n",
    "\n",
    "# Experiments 1a ('run1') and 1b ('run2'); 'repair1' is because of a snafu with base-3, 'cogsci2023' is additional N for Exp1 collected on the suggestion of a conference reviewer\n",
    "iterationNames = ['run1' , 'run2' , 'repair1','cogsci2023']\n",
    "print(\"Looking through mongo db for Exp1...\")\n",
    "clear_output(wait=True)\n",
    "w1 = coll_1.find({'iterationName':{'$in': iterationNames}})\n",
    "W1 = pd.DataFrame(w1)\n",
    "\n",
    "# get rid of the faulty base-3 condition from the first run, where the number '9' was not formed correctly\n",
    "W1 = W1.drop(W1[(W1['base'] == 3) & (W1['iterationName'] == 'run1')].index)\n",
    "\n",
    "# Now Experiment 2\n",
    "iterationName = 'run1'\n",
    "print(\"Looking through mongo db for Exp2...\")\n",
    "clear_output(wait=True)\n",
    "w2 = coll_2.find({'iterationName':iterationName})    \n",
    "W2 = pd.DataFrame(w2)\n",
    "\n",
    "W1 = W1.astype({'correct':'float'})\n",
    "W2 = W2.astype({'correct':'float'})\n",
    "W1['expt'] = 1\n",
    "W2['expt'] = 2\n",
    "\n",
    "# make the two dataframes compatible with each other (there were a couple differences in format), and append them\n",
    "W1 = W1.rename(columns={'writingTime':'WT'})\n",
    "W2 = W2.astype({'totalScore':'float'})\n",
    "W2['totalScore'] = W2['totalScore'] / 100\n",
    "W = W1.append(W2,ignore_index=True)\n",
    "\n",
    "# label each game with some important features (all of Experiment 1 has both features):\n",
    "W['syntax'] = W['condition'].apply(lambda x: x != 'no_syntax')\n",
    "W['count']  = W['condition'].apply(lambda x: x != 'no_count' )\n",
    "\n",
    "# Let's quickly save out a dataframe of all our raw data\n",
    "Wraw = W\n",
    "\n",
    "# anonymize the participant IDs\n",
    "codenames = dict(zip(Wraw['prolificID'].unique(),np.arange(1,len(Wraw['prolificID'].unique())+1)))\n",
    "Wraw['prolificID'] = Wraw['prolificID'].apply(lambda x: codenames[x])\n",
    "\n",
    "Wraw.to_csv(\"../data/Wraw.csv\")\n",
    "\n",
    "print(\"Done\")"
   ]
  },
  {
   "cell_type": "markdown",
   "metadata": {},
   "source": [
    "# <a name=\"exclude\"></a> 3. Make Exclusions ([top](#top))"
   ]
  },
  {
   "cell_type": "code",
   "execution_count": 4,
   "metadata": {},
   "outputs": [
    {
     "name": "stdout",
     "output_type": "stream",
     "text": [
      "\u001b[1mExperiment 1\u001b[0m (Pre-Exclusions)\n",
      "\u001b[1m    Base              No Generalization  With Generalization\u001b[0m\n",
      "    Base 2:           38 games           36 games\n",
      "    Base 3:           49 games           44 games\n",
      "    Base 4:           43 games           40 games\n",
      "    Base 5:           54 games           41 games\n",
      "    Base 8:           39 games           36 games\n",
      "    Base 10:          44 games           38 games\n",
      "------------------------------------------------------------\n",
      "    Total:            267 games          235 games\n",
      "\n",
      "============================================================\n",
      "\u001b[1mExperiment 2\u001b[0m (Pre-Exclusions)\n",
      "\u001b[1m    Condition         No Generalization  With Generalization\u001b[0m\n",
      "    control:          43 games           39 games\n",
      "    no_count:         42 games           38 games\n",
      "    no_syntax:        48 games           42 games\n",
      "------------------------------------------------------------\n",
      "    Total:            131 games          119 games\n"
     ]
    }
   ],
   "source": [
    "\n",
    "print(\"\\033[1mExperiment 1\\033[0m (Pre-Exclusions)\")\n",
    "print(\"\\033[1m    Base              No Generalization  With Generalization\\033[0m\")\n",
    "for base in W1.groupby(['base'])['gameID'].unique().index:\n",
    "    indent1 = ' ' * (12-len(str(base)))\n",
    "    with_gen = len(W1.groupby(['base'])['gameID'].unique()[base])\n",
    "    indent2 = ' ' * (12-len(str(with_gen)))\n",
    "    no_gen   = len(W1.loc[W1['eventType'] == 'generalization'].groupby(['base'])['gameID'].unique()[base])\n",
    "    print(\"    Base {}:{}{} games{} {} games\".format(base, indent1, with_gen, indent2, no_gen))\n",
    "total = len(W1[W1['eventType'] == 'quiz'].gameID.unique())\n",
    "gnrls = len(W1[W1['eventType'] == 'generalization'].gameID.unique()) # N.b. there is only one 'trial' in generalization\n",
    "print(\"-\"*60)\n",
    "print(\"    Total:            {} games{}{} games\".format(total,' ' * (13-len(str(total))),gnrls))\n",
    "print()\n",
    "print(\"=\"*60)\n",
    "\n",
    "print(\"\\033[1mExperiment 2\\033[0m (Pre-Exclusions)\")\n",
    "print(\"\\033[1m    Condition         No Generalization  With Generalization\\033[0m\")\n",
    "for cond in W2.groupby(['condition'])['gameID'].unique().index:\n",
    "    indent1 = ' ' * (12-len(str(cond)))\n",
    "    with_gen = len(W2.groupby(['condition'])['gameID'].unique()[cond])\n",
    "    indent2 = ' ' * (12-len(str(with_gen)))\n",
    "    no_gen   = len(W2.loc[W2['eventType'] == 'generalization'].groupby(['condition'])['gameID'].unique()[cond])\n",
    "    print(\"    {}:     {}{} games{} {} games\".format(cond, indent1, with_gen, indent2, no_gen))\n",
    "total = len(W2[W2['eventType'] == 'quiz'].gameID.unique())\n",
    "gnrls = len(W2[W2['eventType'] == 'generalization'].gameID.unique()) # N.b. there is only one 'trial' in generalization\n",
    "print(\"-\"*60)\n",
    "print(\"    Total:            {} games{}{} games\".format(total,' ' * (13-len(str(total))),gnrls))"
   ]
  },
  {
   "cell_type": "code",
   "execution_count": 5,
   "metadata": {},
   "outputs": [
    {
     "name": "stdout",
     "output_type": "stream",
     "text": [
      "\u001b[1mExperiment 1\u001b[0m (Post-Exclusions)\n",
      "\u001b[1m    Base              No Generalization  With Generalization\u001b[0m\n",
      "    Base 2:           32 games           31 games\n",
      "    Base 3:           30 games           30 games\n",
      "    Base 4:           32 games           32 games\n",
      "    Base 5:           39 games           30 games\n",
      "    Base 8:           30 games           30 games\n",
      "    Base 10:          29 games           29 games\n",
      "------------------------------------------------------------\n",
      "    Total:            192 games          182 games\n",
      "\n",
      "============================================================\n",
      "\u001b[1mExperiment 2\u001b[0m (Post-Exclusions)\n",
      "\u001b[1m    Condition         No Generalization  With Generalization\u001b[0m\n",
      "    control:          30 games           30 games\n",
      "    no_count:         30 games           30 games\n",
      "    no_syntax:        31 games           31 games\n",
      "------------------------------------------------------------\n",
      "    Total:            91 games           91 games\n"
     ]
    }
   ],
   "source": [
    "# Exclusion criteria\n",
    "\n",
    "# Before pre-registered criteria, find those people who took the experiment multiple times\n",
    "temp = pd.DataFrame(W.groupby([\"prolificID\"])['gameID'].unique())       # see how many unique gameIDs per participant\n",
    "temp = temp[temp['gameID'].apply(lambda x: len(x) > 1)]                 # filter to participants with multiple gameIDs\n",
    "\n",
    "# now mark any game past their first one, because they are no longer naive to the task:\n",
    "duplicates = []                                                         # create a list to hold non-naive game ids\n",
    "temp['gameID'].apply(lambda x: duplicates.append(list(x)))              # add list of ALL games to duplicates\n",
    "duplicates = [item for sublist in duplicates for item in sublist]       # flatten that list of list\n",
    "\n",
    "# now find out which of the duplicate games came first, the others therefore being non-naive\n",
    "temp = W.loc[W['gameID'].isin(duplicates)\n",
    "            ].groupby([\"prolificID\"]).apply(lambda x: pd.DataFrame({'duplicate':x[\"initTime\"].min() != x.groupby([\"gameID\"])[\"initTime\"].min()}) )\n",
    "duplicates = list(temp.loc[temp['duplicate']].reset_index()['gameID'])\n",
    "W['duplicate'] = W['gameID'].isin(duplicates)                           # tag all those gameIDs identified as duplicates\n",
    "\n",
    "\n",
    "\n",
    "# Accuracy: relevant to 2 criteria. Make a temporary datastructure to use for exclusions based on game accuracy (only look at people's first try)\n",
    "gameAccs = W.loc[W['eventType'] == 'quiz'].loc[W['take']==0].groupby('gameID')[['correct']].mean()\n",
    "gameAccs1 = W1.loc[W1['eventType'] == 'quiz'].loc[W1['take']==0].groupby('gameID')[['correct']].mean()\n",
    "gameAccs2 = W2.loc[W2['eventType'] == 'quiz'].loc[W2['take']==0].groupby('gameID')[['correct']].mean()\n",
    "\n",
    "# 17.1. Participants who had an accuracy on quiz trials of under 50% indicating unusual inattention to the task.\n",
    "failedGames = gameAccs[gameAccs['correct'] < .5].index     # cutoff at 50%\n",
    "W['failedGame'] = W['gameID'].isin(failedGames)            # set up tag for exclusion\n",
    "\n",
    "# 17.2. Participants who write characters that are not part of the artificial number system in at least 3 trials.\n",
    "##### First, for each game, find all the characters that belong in the count list\n",
    "gameChars = W[W['eventType'] == 'quiz'].groupby(\n",
    "    ['gameID'])[['target']].agg({\"target\":lambda x: x.str.cat()}).applymap(lambda x:set(x).union(set(x.upper()).union(set(' '))))\n",
    "##### Second, make it a searchable dictionary ({gameID : character_set})\n",
    "gameCharDict = pd.Series(gameChars.target.values,index=gameChars.index).to_dict()\n",
    "##### Third, record every character used by each participant, in a new dataframe (\"[W['eventType'] == 'quiz']\", because one person only did a tutorial trial)\n",
    "responseChars = W.loc[W['eventType'] == 'quiz'].groupby(['gameID','trialNum'])[['response']].agg(\n",
    "    {\"response\":lambda x: x.str.cat()}).applymap(lambda x: set(x)).reset_index()                  # store user-generated characters in a set\n",
    "responseChars['gameChars'] = responseChars[['gameID']].applymap(lambda x: gameCharDict[x])        # add the target character set\n",
    "responseChars['intersection'] = responseChars['response'] - responseChars['gameChars']            # what's in the user set, but not target set?\n",
    "responseChars['intersection'] = responseChars[['intersection']].applymap(lambda x: bool(len(x)))  # is anything in user set & not target set?\n",
    "nonsenseFreq = responseChars.groupby('gameID')[['intersection']].sum() > 3                        # if there was an odd char in >3 trials\n",
    "nonsenseGames = nonsenseFreq[nonsenseFreq['intersection'] == True].index                          # for such games, note them down\n",
    "W['nonsenseGame'] = W['gameID'].isin(nonsenseGames)                                               # set up tag for exclusion\n",
    "\n",
    "# 17.3. Participants who score less than 3 standard deviations below the mean score.\n",
    "cutoff1 = float(gameAccs1.mean() - np.std(gameAccs1)*3)                         # get cutoff of 3sd around mean\n",
    "gameAccs1 = gameAccs1[gameAccs1['correct'] < cutoff1].index                     # get those gameIDs that had lower scores\n",
    "cutoff2 = float(gameAccs2.mean() - np.std(gameAccs2)*3)                         # get cutoff of 3sd around mean\n",
    "gameAccs2 = gameAccs2[gameAccs2['correct'] < cutoff2].index                     # get those gameIDs that had lower scores\n",
    "W['failedOutlier'] = W['gameID'].isin(gameAccs1) | W['gameID'].isin(gameAccs2)  # set up tag for exclusion\n",
    "\n",
    "\n",
    "# 17.4. Participants who exit the experiment browser tab during more than five trials.\n",
    "W['distracted'] = W[['distractions']].applymap(lambda x: 'blurred' in x.values())                               # when people left the screen\n",
    "distractedTrials = W.groupby(['gameID','trialNum'])[['distracted']].agg({'distracted':lambda x: bool(sum(x))})  # identify distracted trials\n",
    "distractedTrialFreq = distractedTrials.groupby(['gameID'])[['distracted']].sum().sort_values('distracted')      # distracted trials per game?\n",
    "distractedTrialGames = distractedTrialFreq[distractedTrialFreq['distracted'] > 6].index                         # set the cutoff point\n",
    "W['distractedGame'] = W['gameID'].isin(distractedTrialGames)                                                    # set up tag for exclusion\n",
    "\n",
    "# 17.5. Participants who have to be excluded from payment on Prolific due to any of the platform’s exclusion criteria.\n",
    "manual_exclusions = ['63cda4336ea406b65498774f',  # browser auto-translated number-word text to Ukrainian in ordinality phase\n",
    "                     '63d0319a8f259d3596dca3a7']  # also some weird font thing, possibly auto-translate\n",
    "W['manualExclude'] = W['sessionID'].isin(manual_exclusions)\n",
    "\n",
    "# 17.6. Participants who did not finish the task.\n",
    "incomplete1 = W1.groupby('gameID')[['trialNum']].max() < 64                   # trial numbers stopped incrementing once training/quiz was finished\n",
    "incompleteGames1 = incomplete1[incomplete1['trialNum'] == True].index         # get those games which did make it to the end of the first phase\n",
    "##### now a slightly more involved process for Experiment 2\n",
    "qizGames = set(W2[W2['trialNum'] == 64]['gameID'].unique())                   # for if we only want to look at games that got to the final (64th) quiz trial\n",
    "genGames = set(W2[W2['eventType'] == 'generalization']['gameID'].unique())    # for if we only want to look at games with generalization trial\n",
    "ordGames = set(W2[W2['eventType'] == 'ordinality']['gameID'].unique())        # for if we only want to look at games with magnitude comparison trials\n",
    "completeGames = qizGames.intersection(genGames).intersection(ordGames)        # now take only the games for which the above things are all true\n",
    "incompleteGames2 = list(set(W2.gameID.unique()) - completeGames)\n",
    "W['incomplete'] = W.apply(lambda x: (x['gameID'] in incompleteGames1) if x['expt']==1 else (x['gameID'] in incompleteGames2), axis=1) # set up tag for exclusion\n",
    "\n",
    "# 17.6.b. One additional exclusion criterion for Experiment 1b: must complete generalization phase\n",
    "genGames = W[W['eventType'] == 'generalization']['gameID'].unique()   # find all the games that submitted a generalization phase\n",
    "W['generalized'] = W['gameID'].isin(genGames)                         # set up tag for inclusion\n",
    "\n",
    "# Now, filter out all the above exclusions\n",
    "W = W.loc[(W['failedGame']==False)     &\n",
    "          (W['nonsenseGame']==False)   &\n",
    "          (W['failedOutlier']==False)  &\n",
    "          (W['distractedGame']==False) &\n",
    "          (W['manualExclude']==False)  &\n",
    "          (W['incomplete']==False)     &\n",
    "          (W['duplicate']==False)\n",
    "         ]\n",
    "\n",
    "# And finally, exclude games from Experiment 1b only if they didn't complete the generalization phase\n",
    "W = W.loc[ ((W['generalized']==True) & (W['base'].isin((8,10)))) | (W['base'].isin((2,3,4,5))) | (W['expt']==2) ]\n",
    "\n",
    "# now reset the indices and divide into one dataframe for each experiment again to see Ns for each condition\n",
    "W = W.reset_index(drop=True)\n",
    "W1 = W.loc[W['expt']==1]\n",
    "W2 = W.loc[W['expt']==2]\n",
    "\n",
    "# and let's see what the Ns look like for each experiment / condition now\n",
    "print(\"\\033[1mExperiment 1\\033[0m (Post-Exclusions)\")\n",
    "print(\"\\033[1m    Base              No Generalization  With Generalization\\033[0m\")\n",
    "for base in W1.groupby(['base'])['gameID'].unique().index:\n",
    "    indent1 = ' ' * (12-len(str(base)))\n",
    "    with_gen = len(W1.groupby(['base'])['gameID'].unique()[base])\n",
    "    indent2 = ' ' * (12-len(str(with_gen)))\n",
    "    no_gen   = len(W1.loc[W1['eventType'] == 'generalization'].groupby(['base'])['gameID'].unique()[base])\n",
    "    print(\"    Base {}:{}{} games{} {} games\".format(base, indent1, with_gen, indent2, no_gen))\n",
    "total = len(W1[W1['eventType'] == 'quiz'].gameID.unique())\n",
    "gnrls = len(W1[W1['eventType'] == 'generalization'].gameID.unique()) # N.b. there is only one 'trial' in generalization\n",
    "print(\"-\"*60)\n",
    "print(\"    Total:            {} games{}{} games\".format(total,' ' * (13-len(str(total))),gnrls))\n",
    "print()\n",
    "print(\"=\"*60)\n",
    "print(\"\\033[1mExperiment 2\\033[0m (Post-Exclusions)\")\n",
    "print(\"\\033[1m    Condition         No Generalization  With Generalization\\033[0m\")\n",
    "for cond in W2.groupby(['condition'])['gameID'].unique().index:\n",
    "    indent1 = ' ' * (12-len(str(cond)))\n",
    "    with_gen = len(W2.groupby(['condition'])['gameID'].unique()[cond])\n",
    "    indent2 = ' ' * (12-len(str(with_gen)))\n",
    "    no_gen   = len(W2.loc[W2['eventType'] == 'generalization'].groupby(['condition'])['gameID'].unique()[cond])\n",
    "    print(\"    {}:     {}{} games{} {} games\".format(cond, indent1, with_gen, indent2, no_gen))\n",
    "total = len(W2[W2['eventType'] == 'quiz'].gameID.unique())\n",
    "gnrls = len(W2[W2['eventType'] == 'generalization'].gameID.unique()) # N.b. there is only one 'trial' in generalization\n",
    "print(\"-\"*60)\n",
    "print(\"    Total:            {} games{}{} games\".format(total,' ' * (13-len(str(total))),gnrls))\n"
   ]
  },
  {
   "cell_type": "markdown",
   "metadata": {},
   "source": [
    "# <a name=\"functions\"></a> 4. Define Helper Functions ([top](#top))"
   ]
  },
  {
   "cell_type": "code",
   "execution_count": 6,
   "metadata": {},
   "outputs": [
    {
     "name": "stdout",
     "output_type": "stream",
     "text": [
      "Done\n"
     ]
    }
   ],
   "source": [
    "def expand_generalizations(df):\n",
    "    \"\"\" Stored generalization phase in a weird way, and need to correct it by expanding it out so that there is 1 row per number.\n",
    "    This takes a DF including the generalization trial from ONE gameID at a time, and makes a DF splitting into its component trials.\n",
    "    \"\"\"\n",
    "    g = df.loc[df['phase']=='old_gen']                                                             # just look for generalization trials\n",
    "    gdf = pd.DataFrame(columns=g.columns)                                                          # copy dataframe columns\n",
    "    ind = g['targ'].index[0]                                                                       # index of this generalization trial\n",
    "    g = dict(g.loc[ind])                                                                           # old DF to dictionary\n",
    "    targs = g['targ']                                                                              # all target numbers\n",
    "    high_num = len(targs)                                                                          # how many target numbers? 15 or 20\n",
    "    for i,targ in enumerate(targs):                                                                # for each target number\n",
    "        resp = g['resp'][str(i+1)][0]                                                              # isolate participant response\n",
    "        rt = g['RT'][str(i+1)][0] if len(g['RT'][str(i+1)]) != 0 else np.nan                       # how long it took\n",
    "        wt = g['WT'][str(i+1)][0] if g['expt']==2 else np.nan                                      # only separated WT in Expt 2\n",
    "        num = i+1                                                                                  # target cardinality\n",
    "        newvals = {'targ':targ,'resp':resp,'RT':rt,'WT':wt,'num':num,'phase':'generalization'}     # what's unique about each new row\n",
    "        colvals = [(g[key] if key not in newvals.keys() else newvals[key]) for key in g.keys()]    # otherwise, old column values\n",
    "        newRow = pd.DataFrame([colvals],columns=gdf.columns)                                       # add to a DF row\n",
    "        gdf = gdf.append(newRow)                                                                   # add row to bigger DF\n",
    "    return gdf\n",
    "\n",
    "def newFontSize(ax,fs=24):\n",
    "    \"\"\" Takes a list of axes, or one ax, and changes fontsize of all the important labels\"\"\"\n",
    "    if type(ax) == list:\n",
    "        for a in ax:\n",
    "            for item in ([a.title, a.xaxis.label, a.yaxis.label] +\n",
    "                         a.get_xticklabels() + a.get_yticklabels()):\n",
    "                item.set_fontsize(fs)\n",
    "    else:\n",
    "        for item in ([a.title, a.xaxis.label, a.yaxis.label] +\n",
    "                     a.get_xticklabels() + a.get_yticklabels()):\n",
    "            item.set_fontsize(fs)\n",
    "\n",
    "def get_err(df,by,dv):\n",
    "    \"\"\"    df = the dataframe\n",
    "           by = group by this factor\n",
    "           dv = the column you want to plot \"\"\"\n",
    "    aggDF = df.groupby([by])[[dv]].agg(['mean','count','std'])    # first aggregate the descriptive stats we need\n",
    "    Xs,Ys = list(aggDF.index) , list(aggDF[dv,'mean'])            # get lists of groups and means\n",
    "    errs = []                                                     # initialize what will be CI-95% for each group\n",
    "    for i in aggDF.index:                                         # for each group...\n",
    "        m, c, s = aggDF.loc[i]                                    # mean, count, sd for that group\n",
    "        errs.append(1.96*s/math.sqrt(c))                          # add CI-95% to the list\n",
    "    return pd.DataFrame({by:Xs, dv:Ys, 'err':errs})               # return a dictionary with X, Y, and y-error to plot\n",
    "\n",
    "def getLexicon(series,scrambled=False):\n",
    "    \"\"\" Used in conjunction with gloss(), below. Produces a dictionary.\n",
    "    For Experiment 2, no_syntax condition, we just treat every sign with meaning 1-10 as a lexical atom\"\"\"\n",
    "    d = pd.DataFrame(series) # we will have grouped a dataframe by game ID and applied this function, so input will be a Series\n",
    "    scrambled = d['cond'].isin(['no_syntax'])\n",
    "    if sum(scrambled)==0:\n",
    "        d = d.loc[d['targ'].apply(lambda x: len(str(x))==2)][['num','targ']].drop_duplicates(subset='targ',keep='first') # only single syllable targets, keep one instance + number\n",
    "    else:\n",
    "        d = d.loc[d['num'].apply(lambda x: x<11 )][['num','targ']].drop_duplicates(subset='targ',keep='first') # if 'no_syntax' condition, then lexicon of 10 non-compositional words    \n",
    "    return dict(zip(d['targ'],d['num'])) # return each unique single-syllable target mapped to its number meaning\n",
    "\n",
    "def getEfficiency(game,timeDV='CT'):\n",
    "    acc = game['correct']\n",
    "    z_acc = stats.zscore(acc,nan_policy='omit') if np.nanvar(acc) != 0 else np.zeros(len(acc))\n",
    "    z_dur = stats.zscore(game[timeDV],nan_policy='omit')\n",
    "    eff = z_acc - z_dur\n",
    "    return eff\n",
    "\n",
    "def parseMult(gloss):\n",
    "    # We replaced characters any (and only) non-numeric characters with zero - so we should ignore it when it comes up:\n",
    "    new_gloss = [int(x) for x in gloss if x != 0] # didn't need to re-convert to 'int', but just didn't want any issues\n",
    "    \n",
    "    if len(new_gloss) == 1:\n",
    "        total = new_gloss[0]\n",
    "    else:         # proceed under the assumption that multiplication takes only two lexemes, while cumulation can take several arguments\n",
    "        total = 0\n",
    "        while len(new_gloss) > 0:                                           # if the max value is not the first element in the string, it may have a multiplier\n",
    "            cur_max_ind = np.argmax(new_gloss)\n",
    "            if cur_max_ind > 0:\n",
    "                total += new_gloss[cur_max_ind] * new_gloss[cur_max_ind-1]\n",
    "                del new_gloss[cur_max_ind]\n",
    "                del new_gloss[cur_max_ind-1]\n",
    "            else:                                                           # if the max value IS the first element in the string, it will simply be added\n",
    "                total += new_gloss[cur_max_ind]\n",
    "                del new_gloss[cur_max_ind]\n",
    "    \n",
    "    return total\n",
    "\n",
    "def parseSF(ind, n, gloss, prev):\n",
    "    \"\"\" Asks whether the current gloss might be incrementing on the previous, using additive or multiplicative strategy.\n",
    "    Only relevant when the additive and multiplicative glosses don't already produce the correct number.\n",
    "    This function requires TWO trials as inputs - predecessor and successor - to guess strategy.\"\"\"\n",
    "    \n",
    "    # reformat the previous number's gloss so we can compare them\n",
    "    prev = [(int(re.sub(\"[^0-9]\", \"\", y)) if re.sub(\"[^0-9]\", \"\", y)!='' else 0) for y in list(prev)[0].split('-')]\n",
    "    \n",
    "    # by default, we have no estimate of numerical distance between gloss & target, or what strategy is being used\n",
    "    err = np.inf # np.nan or np.inf?\n",
    "    strat = 'idk'\n",
    "    \n",
    "    # One option is whether using the additive strategy on the last number and current number exhibit a difference of 1:\n",
    "    if (sum(gloss) == sum(prev) + 1) & (sum(gloss) != n):    # also, only if it *isn't* the target number\n",
    "        strat = 'add'\n",
    "        err = 0\n",
    "        \n",
    "    # or indeed, using the multiplicative strategy:\n",
    "    elif (parseMult(gloss) == parseMult(prev) + 1) & (parseMult(gloss) != n):    # also, only if it *isn't* the target number\n",
    "        strat = 'mul'\n",
    "        err = 0        \n",
    "    \n",
    "    return [err,strat]\n",
    "\n",
    "\n",
    "def parseGloss(df,targ=False):\n",
    "    \"\"\" Takes a dataframe with columns 'num' and 'gloss'.\n",
    "    First, it interprets the meaning of each gloss according to different strategies.\n",
    "    Then, it compares those meanings (i.e. numbers) to the actual target number.\n",
    "    Whichever is closest to the target is the strategy that we will now assume that participant was using.\n",
    "    If a participant appears to be using a different strategy on every trial, this may indicate NO strategy\"\"\"    \n",
    "    \n",
    "    gloss = 'gloss' if targ == False else 'targ_gloss' # we might want to make a gloss for the targets\n",
    "    \n",
    "    # For each string, we will record how close it is to the referent number using each strategy. First, let's make it easier to do arithmetic on:\n",
    "    df[gloss] = df[gloss].apply(lambda x: [(int(re.sub(\"[^0-9]\", \"\", y)) if re.sub(\"[^0-9]\", \"\", y)!='' else 0) for y in x.split('-')])\n",
    "    \n",
    "    # Additive Strategy: What do the numbers add up to?\n",
    "    add_err = df[['num',gloss]].apply(lambda x: abs(x['num']-sum(x[gloss])) , axis=1)\n",
    "    \n",
    "    # Multiplicative Strategy: What number comes from a multiplicative & additive parse? A little tricker, so we've defined a helper function\n",
    "    mul_err = df[['num',gloss]].apply(lambda x: abs(x['num']-parseMult(x[gloss])) , axis=1)\n",
    "    \n",
    "    # Let's bind these strategy errors into a dataframe together\n",
    "    parses = pd.DataFrame({'add_err':add_err,'mul_err':mul_err})\n",
    "    \n",
    "    \n",
    "    # \"Counting Up\" Strategy: Gloss of n+1 recursively generated from n (using additive OR multiplicative SF!), regardless of target number\n",
    "    parses[['sf_acc','sf_strat']] = df[['GID','num',gloss]].apply(lambda x: pd.Series(parseSF(x.index,\n",
    "                                                                                        x['num'],\n",
    "                                                                                        x[gloss],\n",
    "                                                                                        G.loc[(G['GID'] == x['GID']) & (G['num'] == x['num']-1),gloss]),\n",
    "                                                                                          index =['sf_acc', 'sf_strat']),\n",
    "                                                                      axis=1, result_type ='expand')    \n",
    "    \n",
    "    # Now let's see which purely compositional strategy (i.e. non-counting) affords the most generous interpretation of each gloss    \n",
    "    parses['err'] = parses[['add_err','mul_err']].apply(lambda x: x.min(), axis=1)\n",
    "    parses['strat'] = parses[['add_err','mul_err']].apply(\n",
    "        lambda x: {'add_err':'add','mul_err':'mul'}[x.idxmin()] if x['add_err'] != x['mul_err'] else 'tie', axis=1)\n",
    "    \n",
    "    # Now see if the Counting Up strategy might account for any of the glosses (only if pure composition does not)\n",
    "    parses[['strat','sf']] = parses[['err','strat','sf_acc','sf_strat']].apply(\n",
    "        lambda x: pd.Series([x['sf_strat'],True], index=['strat','sf']) \n",
    "        if x['sf_acc'] < x['err'] else pd.Series([x['strat'],False],index=['strat','sf']), axis=1)\n",
    "\n",
    "    parses['err'] = parses[['err','sf_acc']].apply(\n",
    "        lambda x: x['sf_acc'] if x['sf_acc'] < x['err'] else x['err'], axis=1)\n",
    "    \n",
    "    # correct: if closest parse == exact target number (True or False)\n",
    "    parses['correct'] = (1 - parses[['err']].astype({'err':bool})).astype({'err':bool})\n",
    "    \n",
    "    # reorder this for the columns we're going to assign it to\n",
    "    parses = parses[['correct','err','strat','add_err','mul_err','sf','sf_acc','sf_strat']] if gloss == 'gloss' else parses[['correct','err','strat']]\n",
    "    return parses\n",
    "\n",
    "\n",
    "def gloss(string,system,cond=None,cardinality=None):\n",
    "    \"\"\" Will use the dictionary lexicon produced by getLexicon() to parse responses into number meanings (leaving unparsable strings as they were).\n",
    "    For Experiment 2, no_syntax condition (\"scrambled\"), we'll want whichever gloss gets us closest to the target number\"\"\"\n",
    "    \n",
    "    st = string.replace(\"-\",\"\") if type(string)==str else \"\" # if it's a nan, then forget about it\n",
    "    \n",
    "    # make a clean lexicon, where all words are purged of hyphens\n",
    "    lex = dict([(key.replace(\"-\",\"\"),system[key]) for key in system.keys()])\n",
    "    \n",
    "    scrambled = cond == 'no_syntax'\n",
    "    \n",
    "    if scrambled == False:\n",
    "        for entry in system:\n",
    "            char_gloss = \"-\"+str(int(system[entry]))+\"-\"\n",
    "            st = st.replace(entry,char_gloss) # replace number word in string (entry) with Western Arabic gloss (system[entry])\n",
    "            st = st.replace(\"--\",\"-\")\n",
    "            st = st.replace(\"- -\",\"-\")\n",
    "            st = st[:-1] if st.endswith('-') else st\n",
    "            st = st[1: ] if st.startswith('-') else st\n",
    "    else:\n",
    "        done = False\n",
    "        \n",
    "        # return a list of all the possible constituents (which may overlap each other in the response string)\n",
    "        candidates = [entry.replace(\"-\",\"\") for entry in system if (entry.replace(\"-\",\"\") in st.replace(\"-\",\"\"))]\n",
    "        \n",
    "        # if there's no candidate gloss for any part of the response string\n",
    "        if len(candidates) == 0:\n",
    "            st = \"\"\n",
    "            done = True\n",
    "            \n",
    "        # if there's only one possible candidate, # NO: or if any candidate already is the entire response string\n",
    "        elif (len(candidates)==1):                # NO: or (max(candidates, key=len)==st)\n",
    "            st = str(int(lex[max(candidates, key=len)]))\n",
    "            done = True\n",
    "        \n",
    "        # if not, then this unparsed string means business. Let's parse it into the smallest possible syllable structure\n",
    "        else:\n",
    "            subsystem1 = dict([(x,system[x]) for x in system.keys() if len(str(x))==2]) # get just the single-syllable lexemes\n",
    "            subsystem2 = dict([(x,system[x]) for x in system.keys() if len(str(x))>2])  # get just the polysyllable lexemes\n",
    "            # (if we wanted this to appropriately generalize beyond this experiment's stimuli,\n",
    "            # an open dictionary mapping number of syllables to subset of lexicon would be ideal)\n",
    "            \n",
    "            # now let's insert hyphens in between every possible instance of a lexical syllable (this also isolates unglossable characters)\n",
    "            for entry in subsystem1.keys():\n",
    "                char_gloss = \"-\"+str(entry)+\"-\"\n",
    "                st = st.replace(entry,char_gloss) # add hyphens around number word in string\n",
    "                st = st.replace(\"--\",\"-\")\n",
    "                st = st.replace(\"- -\",\"-\")\n",
    "                st = st[:-1] if st.endswith('-') else st\n",
    "                st = st[1: ] if st.startswith('-') else st\n",
    "            \n",
    "            glossable = [x for x in st.split('-') if x in system.keys()]    # eliminate unglossable characters\n",
    "                        \n",
    "            # List all possible combinations of syllable breaks that might also be breaks between lexical items\n",
    "            possibles = pd.DataFrame([*set(list(itertools.permutations([1]*(len(glossable)-1) + [0]*(len(glossable)-1),\n",
    "                                                                       r = len(glossable)-1  )))]) # how many syllable breaks are there? Length - 1\n",
    "            \n",
    "            # now check which ones can indeed be glossed\n",
    "            possibles = possibles.apply(lambda x: \"\".join([glossable[j] + x[j]*\"-\" for j in range(len(glossable)-1)]) + glossable[-1], axis=1)\n",
    "            possibles = pd.DataFrame(possibles)\n",
    "            possibles['valid'] = possibles.apply(lambda x: min([(part in lex.keys()) for part in x[0].split('-')]), axis=1)\n",
    "            parses = possibles.loc[possibles['valid'] == True]    # keep only the ones we can interpret\n",
    "            \n",
    "            parses['gloss'] = parses.apply(lambda x: [lex[part] for part in x[0].split('-')], axis=1)\n",
    "            parses['num'] = cardinality\n",
    "            \n",
    "            # Additive Strategy: What do the numbers add up to?\n",
    "            parses['add_err'] = parses[['num','gloss']].apply(lambda x: abs(x['num']-sum(x['gloss'])) , axis=1)\n",
    "\n",
    "            # Multiplicative Strategy: What number comes from a multiplicative & additive parse? A little tricker, so we've defined a helper function\n",
    "            parses['mul_err'] = parses[['num','gloss']].apply(lambda x: abs(x['num']-parseMult(x['gloss'])) , axis=1)\n",
    "                        \n",
    "            add_err = parses.loc[parses['add_err']==min(parses['add_err']),'add_err'].reset_index()\n",
    "            add_err = int(add_err.loc[add_err.index==0,'add_err'])\n",
    "            mul_err = parses.loc[parses['mul_err']==min(parses['mul_err']),'mul_err'].reset_index()\n",
    "            mul_err = int(mul_err.loc[mul_err.index==0,'mul_err'])\n",
    "            \n",
    "            add_mul = 'mul_err' if mul_err < add_err else 'add_err'\n",
    "            \n",
    "            ind = parses.loc[parses[add_mul]==min(parses[add_mul]),'gloss'].index\n",
    "            \n",
    "            # if multiple parses are still equally likely\n",
    "            if len(parses.loc[parses[add_mul]==min(parses[add_mul]),'gloss'][ind]) > 1:\n",
    "                # then see which one is shorter. If same length, we'll randomly select...\n",
    "                gloss = min(parses.loc[parses[add_mul]==min(parses[add_mul]),'gloss'][ind], key=len)\n",
    "            else:\n",
    "                gloss = parses.loc[parses[add_mul]==min(parses[add_mul]),'gloss'].reset_index().loc[0,'gloss']\n",
    "            \n",
    "            st = \"-\".join([str(int(x)) for x in gloss])\n",
    "    \n",
    "    return st\n",
    "\n",
    "\n",
    "print(\"Done\")"
   ]
  },
  {
   "cell_type": "code",
   "execution_count": null,
   "metadata": {},
   "outputs": [],
   "source": []
  },
  {
   "cell_type": "markdown",
   "metadata": {},
   "source": [
    "# <a name=\"new_cols\"></a> 5. Add Derived Columns ([top](#top))"
   ]
  },
  {
   "cell_type": "markdown",
   "metadata": {},
   "source": [
    "### <a name=\"rename\"></a> 5.0. Rename Columns ([top](#top))"
   ]
  },
  {
   "cell_type": "code",
   "execution_count": 7,
   "metadata": {},
   "outputs": [],
   "source": [
    "W = W.rename(columns={'expt':'expt','condition':'cond','gameID':'GID','eventType':'phase','target':'targ',\n",
    "                      'response':'resp','correct':'correct','base':'base','trialNum':'trial','cardinality':'num',\n",
    "                      'take':'take','RT':'RT','WT':'WT'})"
   ]
  },
  {
   "cell_type": "markdown",
   "metadata": {},
   "source": [
    "### <a name=\"genDF\"></a> 5.1. Re-Format Generalization Trials ([top](#top))"
   ]
  },
  {
   "cell_type": "code",
   "execution_count": 8,
   "metadata": {},
   "outputs": [
    {
     "name": "stdout",
     "output_type": "stream",
     "text": [
      "Done\n"
     ]
    }
   ],
   "source": [
    "W['phase'] = W['phase'].str.replace(\"generalization\",'old_gen')                         # rename generalization to old_gen so we can delete old rows\n",
    "total_i = len(W.loc[W['phase']=='old_gen'].GID.unique())                                # how many of these are we doing?\n",
    "for i,GID in enumerate(W.loc[W['phase']=='old_gen'].GID.unique()):                      # for each game with generalization data...\n",
    "    print(\"Reformatting generalization trials for game #{} / {}\".format(i+1,total_i))\n",
    "    clear_output(wait=True)\n",
    "    gen = expand_generalizations(W.loc[W['GID']==GID])                                  # use function above to expand into 15 or 20 trials\n",
    "    W = W.append(gen)                                                                   # add the expanded DF to W\n",
    "W = W[W['phase']!='old_gen']                                                            # delete the old, unexpanded rows\n",
    "W = W.reset_index(drop=True)                                                            # let's have continuous indices\n",
    "\n",
    "# now that they are unpacked from multi-trial dictionaries, we can cast RT and WT as floats\n",
    "W = W.astype({})\n",
    "\n",
    "print(\"Done\")"
   ]
  },
  {
   "cell_type": "markdown",
   "metadata": {},
   "source": [
    "### <a name=\"astype\"></a> 5.2. Retype Columns ([top](#top))"
   ]
  },
  {
   "cell_type": "code",
   "execution_count": 9,
   "metadata": {},
   "outputs": [],
   "source": [
    "# Cast all columns as the type we want, and rename them for efficient writing. Had to wait til after redoing generalization phase because of weird RT and WT format\n",
    "W = W.astype({'expt':str,'cond':str,'GID':str,'phase':str,'targ':str,'resp':str,'correct':bool,\n",
    "              'base':float,'trial':float,'num':float,'take':float,       'RT':float,'WT':float})\n",
    "W = W.astype({'correct':int})"
   ]
  },
  {
   "cell_type": "markdown",
   "metadata": {},
   "source": [
    "### <a name=\"rules\"></a> 5.3. Parse Rules of Composition ([top](#top))"
   ]
  },
  {
   "cell_type": "code",
   "execution_count": 10,
   "metadata": {},
   "outputs": [
    {
     "name": "stdout",
     "output_type": "stream",
     "text": [
      "Done\n"
     ]
    }
   ],
   "source": [
    "# we're going to add something fun. For each number in each condition, we're going to add three columns telling us the following:\n",
    "# namely, whether it (1) is a bare lexical primitive, (2) has additive merge, (3) multiplicative merge, (4) has an exponential multiplier (also a lexical primitive here)\n",
    "# each column could be a binary vector, or count, (just 1 number has multiple instances of a rule type: 4-2-1 (seven) in base-2; possibly 8 too, as a 2nd order exp)\n",
    "# but we'll add (5) the sum of (1-4) as a null hypothesis (\"all rules and lexemes are equally easy\")\n",
    "# finally, probably in R, we'll store (6) the output of a polynomial that weights each of (1-4) with a 'difficulty coefficient'\n",
    "# this 'difficulty coefficient' is really just the beta weights of (1-4) or (1-5) in a regression predicting response time (or negative accuracy)\n",
    "\n",
    "# First, create a dictionary mapping every number in every base system to the correct vector: [prim,add,mult,exp,sum], though we add sum programmatically:\n",
    "b2_features = {1:[1,0,0,0],2:[1,0,0,0],3:[0,1,0,0],4:[1,0,0,1],5:[0,1,0,1],6:[0,1,0,1],7:[0,1,0,1],8:[1,0,0,1],9:[0,1,0,1],10:[0,1,0,1]}\n",
    "b3_features = {1:[1,0,0,0],2:[1,0,0,0],3:[1,0,0,0],4:[0,1,0,0],5:[0,1,0,0],6:[0,0,1,0],7:[0,1,1,0],8:[0,1,1,0],9:[1,0,0,1],10:[0,1,0,1]}\n",
    "b4_features = {1:[1,0,0,0],2:[1,0,0,0],3:[1,0,0,0],4:[1,0,0,0],5:[0,1,0,0],6:[0,1,0,0],7:[0,1,0,0],8:[0,0,1,0],9:[0,1,1,0],10:[0,1,1,0]}\n",
    "b5_features = {1:[1,0,0,0],2:[1,0,0,0],3:[1,0,0,0],4:[1,0,0,0],5:[1,0,0,0],6:[0,1,0,0],7:[0,1,0,0],8:[0,1,0,0],9:[0,1,0,0],10:[0,0,1,0]}\n",
    "b8_features = {1:[1,0,0,0],2:[1,0,0,0],3:[1,0,0,0],4:[1,0,0,0],5:[1,0,0,0],6:[1,0,0,0],7:[1,0,0,0],8:[1,0,0,0],9:[0,1,0,0],10:[0,1,0,0]}\n",
    "bT_features = {1:[1,0,0,0],2:[1,0,0,0],3:[1,0,0,0],4:[1,0,0,0],5:[1,0,0,0],6:[1,0,0,0],7:[1,0,0,0],8:[1,0,0,0],9:[1,0,0,0],10:[1,0,0,0]}\n",
    "\n",
    "b_dicts = {2:b2_features, 3:b3_features, 4:b4_features, 5:b5_features, 8:b8_features, 10:bT_features} # based on base-condition in each row, know which dict to use\n",
    "\n",
    "# now for each row, look up base and cardinality and assign the vector to the new columns\n",
    "feats = W.apply(lambda x: pd.Series(b_dicts[x['base']][x['num']], index=['prim','add','mult','exp'])\n",
    "                if (x['num'] > 0) & (x['num'] < 11) else pd.Series([np.nan]*4, index=['prim','add','mult','exp']),\n",
    "                axis=1) # note, some cardinalities are np.nan (uh oh). None is == 0, so we'll catch NaNs on that basis (& let them propagate)\n",
    "                        # realized why: generalization trials and surveys! I think a bug resulted in some double-surveys, too: 255 NaNs total\n",
    "\n",
    "W['prim'],W['add'],W['mult'],W['exp'] = feats['prim'],feats['add'],feats['mult'],feats['exp']\n",
    "\n",
    "# here's that sum we were going to compute\n",
    "W['feature_sum'] = W[['prim','add','mult','exp']].apply(lambda x: sum(x), axis=1)\n",
    "\n",
    "W['maxrule'] = W.apply(lambda x: 4 if x['exp'] == 1 else 3 if x['mult'] == 1 else 2 if x['add'] == 1 else 1, axis=1)\n",
    "\n",
    "print(\"Done\")"
   ]
  },
  {
   "cell_type": "code",
   "execution_count": 11,
   "metadata": {},
   "outputs": [
    {
     "name": "stdout",
     "output_type": "stream",
     "text": [
      "Done\n"
     ]
    }
   ],
   "source": [
    "# now let's also break down the responses that participants wrote into possible compositions of number words\n",
    "\n",
    "# first, create a dictionary mapping every game to the list of number words we gave participants to learn\n",
    "units_dict = dict(W.groupby(['GID']).apply(lambda x: getLexicon(x)))\n",
    "\n",
    "# then store that lexicon in its own column, for every trial in each game\n",
    "W['lexicon'] = W['GID'].apply(lambda x: units_dict[x])\n",
    "\n",
    "# attempt to create an Arabic numeral gloss for every participant-generated response string\n",
    "W['gloss'] = W.apply(lambda x: gloss(x['resp'],x['lexicon'],cardinality=x['num'],cond=x['cond']),axis=1)\n",
    "\n",
    "# attempt to create an Arabic numeral gloss for every target string\n",
    "W['targ_gloss'] = W.apply(lambda x: gloss(x['targ'],x['lexicon']),axis=1)\n",
    "\n",
    "# every syllable past the first one has a hyphen\n",
    "W['numSyls'] = W.targ.str.count('-')+1\n",
    "\n",
    "print(\"Done\")"
   ]
  },
  {
   "cell_type": "markdown",
   "metadata": {},
   "source": [
    "### <a name=\"saveout\"></a> 5.4. Cut up Data & Save to CSV ([top](#top))"
   ]
  },
  {
   "cell_type": "code",
   "execution_count": 12,
   "metadata": {
    "scrolled": true
   },
   "outputs": [],
   "source": [
    "# anonymize the participant IDs\n",
    "codenames = dict(zip(W['prolificID'].unique(),np.arange(1,len(W['prolificID'].unique())+1)))\n",
    "W['prolificID'] = W['prolificID'].apply(lambda x: codenames[x])\n",
    "\n",
    "# and the game IDs, while were at it, just so they're shorter and easier to manage\n",
    "codenames = dict(zip(W['GID'].unique(),np.arange(1,len(W['GID'].unique())+1)))\n",
    "W['GID'] = W['GID'].apply(lambda x: codenames[x])\n",
    "\n",
    "# optional: exclude outlier response times & writing times, for each experiment separately\n",
    "RTcrit1, WTcrit1 = W.loc[W['expt']=='1'][['RT','WT']].std()*3\n",
    "RTcrit2, WTcrit2 = W.loc[W['expt']=='2'][['RT','WT']].std()*3\n",
    "W['RT'] = W[['expt','RT']].apply(lambda x: x['RT'] if x['RT'] < {'1':RTcrit1,'2':RTcrit2}[x['expt']] else np.nan , axis=1)\n",
    "W['WT'] = W[['expt','WT']].apply(lambda x: x['WT'] if x['WT'] < {'1':WTcrit1,'2':WTcrit2}[x['expt']] else np.nan , axis=1)\n",
    "\n",
    "# makes it much nicer to work with if ms -> s in all time DVs\n",
    "W['RT'] = W['RT'] / 1000\n",
    "W['WT'] = W['WT'] / 1000\n",
    "\n",
    "# and we can save out a version of our cleaned dataframe, now with some additional helpful columns\n",
    "W.to_csv(\"../data/W.csv\")"
   ]
  },
  {
   "cell_type": "code",
   "execution_count": 13,
   "metadata": {},
   "outputs": [
    {
     "name": "stdout",
     "output_type": "stream",
     "text": [
      "Done\n"
     ]
    }
   ],
   "source": [
    "# Now, split up the different trial types for separate analyses, and add relevant derived columns\n",
    "T = W[W['phase']=='tutorial']\n",
    "Q = W[W['phase']=='quiz'].loc[W['take']==0]    # we said we would only look at the first take\n",
    "G = W[W['phase']=='generalization']\n",
    "M = W[W['phase']=='ordinality']                # M for magnitude - it's not really an ordinality task\n",
    "S = W[W['phase']=='survey']\n",
    "\n",
    "print(\"Done\")"
   ]
  },
  {
   "cell_type": "code",
   "execution_count": 14,
   "metadata": {},
   "outputs": [
    {
     "name": "stdout",
     "output_type": "stream",
     "text": [
      "Done\n"
     ]
    }
   ],
   "source": [
    "# First, clean the Quiz trials\n",
    "# remove the first instance of each cardinality from Expt 2 quiz trials (it is not very informative)\n",
    "print(\"Working on excluding first trial of each cardinality\")\n",
    "clear_output(wait=True)\n",
    "exclude_all_1sts = False    # optional: exclude first trial of each cardinality for Experiment 1 as well\n",
    "temp = Q if exclude_all_1sts else Q.loc[Q['expt']=='2']\n",
    "temp = temp.groupby(['GID','num']).apply(lambda x:  x.tail(-1)   ).drop(['GID','num'],axis=1).reset_index().set_index('level_2')\n",
    "temp.index = temp.index.rename('index')\n",
    "if exclude_all_1sts:\n",
    "    Q = temp\n",
    "else:\n",
    "    Q.loc[Q['expt']=='2'] = temp\n",
    "\n",
    "# add some new columns to the quiz trial df\n",
    "Q['normedWT'] = (Q.WT / Q.resp.str.len())\n",
    "\n",
    "# our pre-registered time DV (CT: composite time) looks like this:\n",
    "Q['CT'] = Q.RT + Q['normedWT']\n",
    "\n",
    "# now record the cumulative frequency for the target cardinality in every quiz trial\n",
    "print(\"Working on labelling cumulative frequency (quiz trials)\")\n",
    "clear_output(wait=True)\n",
    "temp = Q[['trial','GID','num']]\n",
    "Q['freq'] = temp.apply(lambda x: Q.loc[\n",
    "    Q['trial'] < x['trial']].loc[\n",
    "    Q['GID']==x['GID']].loc[\n",
    "    Q['num']==x['num']]['num'].count(),axis=1)\n",
    "\n",
    "print(\"Done\")"
   ]
  },
  {
   "cell_type": "code",
   "execution_count": 15,
   "metadata": {},
   "outputs": [
    {
     "name": "stderr",
     "output_type": "stream",
     "text": [
      "/Users/alles/anaconda3/lib/python3.7/site-packages/pandas/core/indexing.py:1720: SettingWithCopyWarning: \n",
      "A value is trying to be set on a copy of a slice from a DataFrame.\n",
      "Try using .loc[row_indexer,col_indexer] = value instead\n",
      "\n",
      "See the caveats in the documentation: https://pandas.pydata.org/pandas-docs/stable/user_guide/indexing.html#returning-a-view-versus-a-copy\n",
      "  self._setitem_single_column(loc, value, pi)\n"
     ]
    },
    {
     "name": "stdout",
     "output_type": "stream",
     "text": [
      "Done\n"
     ]
    }
   ],
   "source": [
    "# Second, add some columns to Generalization trials\n",
    "\n",
    "# we don't know yet whether each generalization trial is correct or not, so revert to np.nan\n",
    "G.loc[G['num']>10,'correct'] = np.nan\n",
    "\n",
    "Gnew = G.loc[G['num']>10].loc[G['expt'].isin(['1','2'])] # isolate one experiment, or look at it for both\n",
    "\n",
    "Gnew[['correct','err','strat','add_err','mul_err','sf','sf_acc','sf_strat']] = Gnew.groupby(\n",
    "    ['GID'])[['GID','base','cond','num','gloss']].apply(lambda x: parseGloss(x))    # parse it!\n",
    "\n",
    "# if there remains a tie between multiplicative and additive strategies, then look at the context of the game:\n",
    "# If a multiplicative rule is used at all, then 'mul' is most likely. If only additive rules are used or still a tie, then 'add'\n",
    "Gnew.loc[Gnew['strat']=='tie','strat'] = Gnew.loc[Gnew['strat']=='tie'].apply(lambda x: 'mul' if 'mul' in Gnew.loc[Gnew['GID']==x['GID']]['strat'].unique() else 'add', axis=1)\n",
    "\n",
    "# one factor that also includes whether the gloss was (putatively) directly compositional, or from 'counting up' only\n",
    "Gnew['strategy'] = Gnew[['strat','sf']].apply(lambda x: str(x['strat'])+\"_sf\"*int(x['sf']), axis=1)\n",
    "\n",
    "# we need another new column that intersects strat and accuracy (or the more stingy strategy and accuracy)\n",
    "Gnew['strat_acc'] = Gnew.apply(lambda x: x['correct']*x['strat'] + (1-x['correct'])*'bad' , axis = 1)\n",
    "Gnew['strategy_acc'] = Gnew.apply(lambda x: x['correct']*x['strategy'] + (1-x['correct'])*'bad' , axis = 1)\n",
    "\n",
    "# create a column telling us whether the response matched our own target labels exactly\n",
    "Gnew['exact_match'] = Gnew.apply(lambda x: x['targ'].replace(\"-\",\"\") == x['resp'].replace(\"-\",\"\"), axis=1)\n",
    "\n",
    "\n",
    "print(\"Done\")"
   ]
  },
  {
   "cell_type": "code",
   "execution_count": 16,
   "metadata": {},
   "outputs": [
    {
     "name": "stdout",
     "output_type": "stream",
     "text": [
      "Done\n"
     ]
    },
    {
     "name": "stderr",
     "output_type": "stream",
     "text": [
      "/Users/alles/anaconda3/lib/python3.7/site-packages/ipykernel_launcher.py:16: SettingWithCopyWarning: \n",
      "A value is trying to be set on a copy of a slice from a DataFrame.\n",
      "Try using .loc[row_indexer,col_indexer] = value instead\n",
      "\n",
      "See the caveats in the documentation: https://pandas.pydata.org/pandas-docs/stable/user_guide/indexing.html#returning-a-view-versus-a-copy\n",
      "  app.launch_new_instance()\n"
     ]
    }
   ],
   "source": [
    "# Third, add some helpful columns for the Magnitude Comparison task\n",
    "M['distractorNum'] = M[['responseNumber','otherNumber']].min(axis=1)\n",
    "M['diff'] = M['targetNum'] - M['distractorNum']\n",
    "M['syllDiff'] = M[['responseWord','otherWord']].apply(\n",
    "    lambda x:abs(int((len(x['responseWord'].replace('-','')) - len(x['otherWord'].replace('-','')))/2)),axis=1)\n",
    "\n",
    "M['numsum'] = M['targetNum'] + M['distractorNum']\n",
    "M['numdif'] = M['targetNum'] - M['distractorNum']\n",
    "\n",
    "# now record the cumulative frequency for the pair of cardinalities in every magnitude comparison trial\n",
    "print(\"Working on labelling cumulative frequency (magnitude comparison trials)\")\n",
    "clear_output(wait=True)\n",
    "temp = M[['GID','targetNum','distractorNum']]\n",
    "M['freq'] = temp.apply(lambda x: Q.loc[\n",
    "    Q['GID']==x['GID']].loc[\n",
    "    Q['num'].isin([x['targetNum'],x['distractorNum']])]['num'].count(),axis=1)\n",
    "\n",
    "print(\"Done\")"
   ]
  },
  {
   "cell_type": "code",
   "execution_count": 17,
   "metadata": {},
   "outputs": [
    {
     "name": "stdout",
     "output_type": "stream",
     "text": [
      "Done\n"
     ]
    }
   ],
   "source": [
    "# Isolate the datastructures we are planning to do statistical tests on\n",
    "Q1 = Q[Q['expt']=='1']    # Quiz trials in Experiment 1 (first take only)\n",
    "Q2 = Q[Q['expt']=='2']    # Quiz trials in Experiment 2 (first take only)\n",
    "M2 = M[M['expt']=='2']    # Magnitude comparison trials in Experiment 2\n",
    "\n",
    "# Now save those datastructures out to .csv for analysis\n",
    "Q1.to_csv(\"../data/Q1.csv\")\n",
    "Q2.to_csv(\"../data/Q2.csv\")\n",
    "M2.to_csv(\"../data/M2.csv\")\n",
    "\n",
    "# Now also isolate the datastructures we plan to visualize\n",
    "G1 = Gnew[Gnew['expt']=='1']    # generalization trials in Experiment 2\n",
    "G2 = Gnew[Gnew['expt']=='2']    # generalization trials in Experiment 2\n",
    "\n",
    "G1.to_csv(\"../data/G1.csv\")\n",
    "G2.to_csv(\"../data/G2.csv\")\n",
    "\n",
    "\n",
    "print(\"Done\")"
   ]
  },
  {
   "cell_type": "markdown",
   "metadata": {},
   "source": [
    "# <a name=\"summaries\"></a> 6. Summary Statistics ([top](#top))"
   ]
  },
  {
   "cell_type": "markdown",
   "metadata": {},
   "source": [
    "### average bonus received in each experiment"
   ]
  },
  {
   "cell_type": "code",
   "execution_count": 18,
   "metadata": {},
   "outputs": [
    {
     "name": "stdout",
     "output_type": "stream",
     "text": [
      "1.900625\n",
      "2.3584615384615377\n"
     ]
    }
   ],
   "source": [
    "print(W.loc[W['expt']=='1'].groupby(\"GID\")['totalScore'].max().mean() / 100)    # denominated in cents\n",
    "print(W.loc[W['expt']=='2'].groupby(\"GID\")['totalScore'].max().mean())    # denominated in dollars"
   ]
  },
  {
   "cell_type": "markdown",
   "metadata": {},
   "source": [
    "### average correct and response time for each experiment"
   ]
  },
  {
   "cell_type": "code",
   "execution_count": 19,
   "metadata": {},
   "outputs": [
    {
     "data": {
      "text/html": [
       "<div>\n",
       "<style scoped>\n",
       "    .dataframe tbody tr th:only-of-type {\n",
       "        vertical-align: middle;\n",
       "    }\n",
       "\n",
       "    .dataframe tbody tr th {\n",
       "        vertical-align: top;\n",
       "    }\n",
       "\n",
       "    .dataframe thead th {\n",
       "        text-align: right;\n",
       "    }\n",
       "</style>\n",
       "<table border=\"1\" class=\"dataframe\">\n",
       "  <thead>\n",
       "    <tr style=\"text-align: right;\">\n",
       "      <th></th>\n",
       "      <th>expt</th>\n",
       "      <th>CT</th>\n",
       "      <th>err</th>\n",
       "    </tr>\n",
       "  </thead>\n",
       "  <tbody>\n",
       "    <tr>\n",
       "      <th>0</th>\n",
       "      <td>1</td>\n",
       "      <td>2.033860</td>\n",
       "      <td>0.031959</td>\n",
       "    </tr>\n",
       "    <tr>\n",
       "      <th>1</th>\n",
       "      <td>2</td>\n",
       "      <td>2.230382</td>\n",
       "      <td>0.063005</td>\n",
       "    </tr>\n",
       "  </tbody>\n",
       "</table>\n",
       "</div>"
      ],
      "text/plain": [
       "  expt        CT       err\n",
       "0    1  2.033860  0.031959\n",
       "1    2  2.230382  0.063005"
      ]
     },
     "execution_count": 19,
     "metadata": {},
     "output_type": "execute_result"
    }
   ],
   "source": [
    "get_err(Q,'expt','correct')\n",
    "get_err(Q,'expt','CT')"
   ]
  },
  {
   "cell_type": "markdown",
   "metadata": {},
   "source": [
    "### how often participants produced the exact target string in generalization for each experiment / condition"
   ]
  },
  {
   "cell_type": "code",
   "execution_count": 20,
   "metadata": {},
   "outputs": [
    {
     "data": {
      "text/plain": [
       "base\n",
       "2.0     0.361290\n",
       "3.0     0.240000\n",
       "4.0     0.331250\n",
       "5.0     0.486667\n",
       "8.0     0.420000\n",
       "10.0    0.379310\n",
       "dtype: float64"
      ]
     },
     "execution_count": 20,
     "metadata": {},
     "output_type": "execute_result"
    }
   ],
   "source": [
    "Gnew.loc[Gnew['expt']=='1'].groupby(['base']).apply(lambda x: (x['targ'].str.replace(\"-\",\"\") == x['resp'].str.replace(\"-\",\"\")).mean() )\n",
    "# Gnew.loc[Gnew['expt']=='2'].groupby(['cond']).apply(lambda x: (x['targ'].str.replace(\"-\",\"\") == x['resp'].str.replace(\"-\",\"\")).mean() )"
   ]
  },
  {
   "cell_type": "markdown",
   "metadata": {},
   "source": [
    "### participants who produced only exact matches to expected strategy"
   ]
  },
  {
   "cell_type": "code",
   "execution_count": 21,
   "metadata": {},
   "outputs": [
    {
     "data": {
      "text/html": [
       "<div>\n",
       "<style scoped>\n",
       "    .dataframe tbody tr th:only-of-type {\n",
       "        vertical-align: middle;\n",
       "    }\n",
       "\n",
       "    .dataframe tbody tr th {\n",
       "        vertical-align: top;\n",
       "    }\n",
       "\n",
       "    .dataframe thead th {\n",
       "        text-align: right;\n",
       "    }\n",
       "</style>\n",
       "<table border=\"1\" class=\"dataframe\">\n",
       "  <thead>\n",
       "    <tr style=\"text-align: right;\">\n",
       "      <th></th>\n",
       "      <th>ID</th>\n",
       "      <th>exact_match</th>\n",
       "    </tr>\n",
       "    <tr>\n",
       "      <th>base</th>\n",
       "      <th></th>\n",
       "      <th></th>\n",
       "    </tr>\n",
       "  </thead>\n",
       "  <tbody>\n",
       "    <tr>\n",
       "      <th>2.0</th>\n",
       "      <td>3240</td>\n",
       "      <td>4</td>\n",
       "    </tr>\n",
       "    <tr>\n",
       "      <th>3.0</th>\n",
       "      <td>3893</td>\n",
       "      <td>1</td>\n",
       "    </tr>\n",
       "    <tr>\n",
       "      <th>4.0</th>\n",
       "      <td>3038</td>\n",
       "      <td>5</td>\n",
       "    </tr>\n",
       "    <tr>\n",
       "      <th>5.0</th>\n",
       "      <td>3543</td>\n",
       "      <td>6</td>\n",
       "    </tr>\n",
       "    <tr>\n",
       "      <th>8.0</th>\n",
       "      <td>2017</td>\n",
       "      <td>0</td>\n",
       "    </tr>\n",
       "    <tr>\n",
       "      <th>10.0</th>\n",
       "      <td>1936</td>\n",
       "      <td>1</td>\n",
       "    </tr>\n",
       "  </tbody>\n",
       "</table>\n",
       "</div>"
      ],
      "text/plain": [
       "        ID  exact_match\n",
       "base                   \n",
       "2.0   3240            4\n",
       "3.0   3893            1\n",
       "4.0   3038            5\n",
       "5.0   3543            6\n",
       "8.0   2017            0\n",
       "10.0  1936            1"
      ]
     },
     "execution_count": 21,
     "metadata": {},
     "output_type": "execute_result"
    }
   ],
   "source": [
    "Gnew.loc[Gnew['expt']=='1'].apply(lambda x: pd.Series([x['prolificID'],x['base'], x['targ'].replace(\"-\",\"\") == x['resp'].replace(\"-\",\"\")]) , axis=1).rename(\n",
    "    columns={0: \"ID\", 1: \"base\", 2: \"exact_match\"}).groupby(['base','ID'])[['exact_match']].min().reset_index().groupby('base').sum()\n",
    "\n",
    "# Gnew.loc[Gnew['expt']=='2'].apply(lambda x: pd.Series([x['prolificID'],x['cond'], x['targ'].replace(\"-\",\"\") == x['resp'].replace(\"-\",\"\")]) , axis=1).rename(\n",
    "#     columns={0: \"ID\", 1: \"cond\", 2: \"exact_match\"}).groupby(['cond','ID'])[['exact_match']].min().reset_index().groupby('cond').sum()"
   ]
  },
  {
   "cell_type": "markdown",
   "metadata": {},
   "source": [
    "### use of each strategy during generalization (trials as unit of analysis)"
   ]
  },
  {
   "cell_type": "code",
   "execution_count": 23,
   "metadata": {},
   "outputs": [
    {
     "name": "stdout",
     "output_type": "stream",
     "text": [
      "    Experiment 1\n",
      "Of 1205 Trials, Exact Match: 454. Add additive: 644. Add multiplicative: 710. Add count-up: 955.\n",
      "    Experiment 2\n",
      "Of 600 Trials, Exact Match: 215. Add additive: 217. Add multiplicative: 320. Add count-up: 446.\n"
     ]
    }
   ],
   "source": [
    "Gnew['exadd'] = Gnew.apply(lambda x: x['exact_match']==True or x['strategy_acc'] in ['add'], axis=1)\n",
    "Gnew['exaddmul'] = Gnew.apply(lambda x: x['exact_match']==True or x['strategy_acc'] in ['add','mul'], axis=1)\n",
    "Gnew['exaddmulsf'] = Gnew.apply(lambda x: x['exact_match']==True or x['strategy_acc'] in ['add','mul','add_sf','mul_sf'], axis=1)\n",
    "\n",
    "print(\"    Experiment 1\")\n",
    "print(\"Of {} Trials, Exact Match: {}. Add additive: {}. Add multiplicative: {}. Add count-up: {}.\".format(Gnew.loc[Gnew['expt']=='1']['exact_match'].count(),\n",
    "                                                                                                          Gnew.loc[Gnew['expt']=='1']['exact_match'].sum(),\n",
    "                                                                                                          Gnew.loc[Gnew['expt']=='1']['exadd'].sum(),\n",
    "                                                                                                          Gnew.loc[Gnew['expt']=='1']['exaddmul'].sum(),\n",
    "                                                                                                          Gnew.loc[Gnew['expt']=='1']['exaddmulsf'].sum()))\n",
    "print(\"    Experiment 2\")\n",
    "print(\"Of {} Trials, Exact Match: {}. Add additive: {}. Add multiplicative: {}. Add count-up: {}.\".format(Gnew.loc[Gnew['expt']=='2'].loc[Gnew['cond']!='no_syntax']['exact_match'].count(),\n",
    "                                                                                                          Gnew.loc[Gnew['expt']=='2'].loc[Gnew['cond']!='no_syntax']['exact_match'].sum(),\n",
    "                                                                                                          Gnew.loc[Gnew['expt']=='2'].loc[Gnew['cond']!='no_syntax']['exadd'].sum(),\n",
    "                                                                                                          Gnew.loc[Gnew['expt']=='2'].loc[Gnew['cond']!='no_syntax']['exaddmul'].sum(),\n",
    "                                                                                                          Gnew.loc[Gnew['expt']=='2'].loc[Gnew['cond']!='no_syntax']['exaddmulsf'].sum()))\n"
   ]
  },
  {
   "cell_type": "markdown",
   "metadata": {},
   "source": [
    "### rates of correct generalizations under different coding schemes"
   ]
  },
  {
   "cell_type": "code",
   "execution_count": 24,
   "metadata": {},
   "outputs": [],
   "source": [
    "# First, display the descriptive stats (can visualize these)\n",
    "exact_acc = get_err(Gnew.loc[Gnew['cond']!='no_syntax'],'expt','exact_match')\n",
    "add_acc = get_err(Gnew.loc[Gnew['cond']!='no_syntax'],'expt','exadd')\n",
    "addmul_acc = get_err(Gnew.loc[Gnew['cond']!='no_syntax'],'expt','exaddmul')\n",
    "addmulsf_acc = get_err(Gnew.loc[Gnew['cond']!='no_syntax'],'expt','exaddmulsf')"
   ]
  },
  {
   "cell_type": "code",
   "execution_count": 25,
   "metadata": {},
   "outputs": [
    {
     "data": {
      "text/html": [
       "<div>\n",
       "<style scoped>\n",
       "    .dataframe tbody tr th:only-of-type {\n",
       "        vertical-align: middle;\n",
       "    }\n",
       "\n",
       "    .dataframe tbody tr th {\n",
       "        vertical-align: top;\n",
       "    }\n",
       "\n",
       "    .dataframe thead th {\n",
       "        text-align: right;\n",
       "    }\n",
       "</style>\n",
       "<table border=\"1\" class=\"dataframe\">\n",
       "  <thead>\n",
       "    <tr style=\"text-align: right;\">\n",
       "      <th></th>\n",
       "      <th>expt</th>\n",
       "      <th>exact_match</th>\n",
       "      <th>err</th>\n",
       "    </tr>\n",
       "  </thead>\n",
       "  <tbody>\n",
       "    <tr>\n",
       "      <th>0</th>\n",
       "      <td>1</td>\n",
       "      <td>0.376763</td>\n",
       "      <td>0.027372</td>\n",
       "    </tr>\n",
       "    <tr>\n",
       "      <th>1</th>\n",
       "      <td>2</td>\n",
       "      <td>0.358333</td>\n",
       "      <td>0.038401</td>\n",
       "    </tr>\n",
       "  </tbody>\n",
       "</table>\n",
       "</div>"
      ],
      "text/plain": [
       "  expt  exact_match       err\n",
       "0    1     0.376763  0.027372\n",
       "1    2     0.358333  0.038401"
      ]
     },
     "execution_count": 25,
     "metadata": {},
     "output_type": "execute_result"
    }
   ],
   "source": [
    "# Permitting only exact matches\n",
    "exact_acc"
   ]
  },
  {
   "cell_type": "code",
   "execution_count": 26,
   "metadata": {},
   "outputs": [
    {
     "data": {
      "text/html": [
       "<div>\n",
       "<style scoped>\n",
       "    .dataframe tbody tr th:only-of-type {\n",
       "        vertical-align: middle;\n",
       "    }\n",
       "\n",
       "    .dataframe tbody tr th {\n",
       "        vertical-align: top;\n",
       "    }\n",
       "\n",
       "    .dataframe thead th {\n",
       "        text-align: right;\n",
       "    }\n",
       "</style>\n",
       "<table border=\"1\" class=\"dataframe\">\n",
       "  <thead>\n",
       "    <tr style=\"text-align: right;\">\n",
       "      <th></th>\n",
       "      <th>expt</th>\n",
       "      <th>exadd</th>\n",
       "      <th>err</th>\n",
       "    </tr>\n",
       "  </thead>\n",
       "  <tbody>\n",
       "    <tr>\n",
       "      <th>0</th>\n",
       "      <td>1</td>\n",
       "      <td>0.534440</td>\n",
       "      <td>0.028176</td>\n",
       "    </tr>\n",
       "    <tr>\n",
       "      <th>1</th>\n",
       "      <td>2</td>\n",
       "      <td>0.361667</td>\n",
       "      <td>0.038479</td>\n",
       "    </tr>\n",
       "  </tbody>\n",
       "</table>\n",
       "</div>"
      ],
      "text/plain": [
       "  expt     exadd       err\n",
       "0    1  0.534440  0.028176\n",
       "1    2  0.361667  0.038479"
      ]
     },
     "execution_count": 26,
     "metadata": {},
     "output_type": "execute_result"
    }
   ],
   "source": [
    "# permitting additive rules\n",
    "add_acc"
   ]
  },
  {
   "cell_type": "code",
   "execution_count": 27,
   "metadata": {},
   "outputs": [
    {
     "data": {
      "text/html": [
       "<div>\n",
       "<style scoped>\n",
       "    .dataframe tbody tr th:only-of-type {\n",
       "        vertical-align: middle;\n",
       "    }\n",
       "\n",
       "    .dataframe tbody tr th {\n",
       "        vertical-align: top;\n",
       "    }\n",
       "\n",
       "    .dataframe thead th {\n",
       "        text-align: right;\n",
       "    }\n",
       "</style>\n",
       "<table border=\"1\" class=\"dataframe\">\n",
       "  <thead>\n",
       "    <tr style=\"text-align: right;\">\n",
       "      <th></th>\n",
       "      <th>expt</th>\n",
       "      <th>exaddmul</th>\n",
       "      <th>err</th>\n",
       "    </tr>\n",
       "  </thead>\n",
       "  <tbody>\n",
       "    <tr>\n",
       "      <th>0</th>\n",
       "      <td>1</td>\n",
       "      <td>0.589212</td>\n",
       "      <td>0.027790</td>\n",
       "    </tr>\n",
       "    <tr>\n",
       "      <th>1</th>\n",
       "      <td>2</td>\n",
       "      <td>0.533333</td>\n",
       "      <td>0.039953</td>\n",
       "    </tr>\n",
       "  </tbody>\n",
       "</table>\n",
       "</div>"
      ],
      "text/plain": [
       "  expt  exaddmul       err\n",
       "0    1  0.589212  0.027790\n",
       "1    2  0.533333  0.039953"
      ]
     },
     "execution_count": 27,
     "metadata": {},
     "output_type": "execute_result"
    }
   ],
   "source": [
    "# permitting additive and multiplicative rules\n",
    "addmul_acc"
   ]
  },
  {
   "cell_type": "code",
   "execution_count": 28,
   "metadata": {},
   "outputs": [
    {
     "data": {
      "text/html": [
       "<div>\n",
       "<style scoped>\n",
       "    .dataframe tbody tr th:only-of-type {\n",
       "        vertical-align: middle;\n",
       "    }\n",
       "\n",
       "    .dataframe tbody tr th {\n",
       "        vertical-align: top;\n",
       "    }\n",
       "\n",
       "    .dataframe thead th {\n",
       "        text-align: right;\n",
       "    }\n",
       "</style>\n",
       "<table border=\"1\" class=\"dataframe\">\n",
       "  <thead>\n",
       "    <tr style=\"text-align: right;\">\n",
       "      <th></th>\n",
       "      <th>expt</th>\n",
       "      <th>exaddmulsf</th>\n",
       "      <th>err</th>\n",
       "    </tr>\n",
       "  </thead>\n",
       "  <tbody>\n",
       "    <tr>\n",
       "      <th>0</th>\n",
       "      <td>1</td>\n",
       "      <td>0.792531</td>\n",
       "      <td>0.022905</td>\n",
       "    </tr>\n",
       "    <tr>\n",
       "      <th>1</th>\n",
       "      <td>2</td>\n",
       "      <td>0.743333</td>\n",
       "      <td>0.034980</td>\n",
       "    </tr>\n",
       "  </tbody>\n",
       "</table>\n",
       "</div>"
      ],
      "text/plain": [
       "  expt  exaddmulsf       err\n",
       "0    1    0.792531  0.022905\n",
       "1    2    0.743333  0.034980"
      ]
     },
     "execution_count": 28,
     "metadata": {},
     "output_type": "execute_result"
    }
   ],
   "source": [
    "# permitting additive, multiplicative, and counting rules\n",
    "addmulsf_acc"
   ]
  },
  {
   "cell_type": "markdown",
   "metadata": {},
   "source": [
    "### Chisq tests for strategy prevalence in Experiment 1"
   ]
  },
  {
   "cell_type": "code",
   "execution_count": 29,
   "metadata": {},
   "outputs": [],
   "source": [
    "# We will compare success rates using different strategies\n",
    "exact_acc_counts = np.array(Gnew['exact_match'].loc[Gnew['expt']=='1'].value_counts().sort_index())\n",
    "add_acc_counts = np.array(Gnew['exadd'].loc[Gnew['expt']=='1'].value_counts().sort_index())\n",
    "addmul_acc_counts = np.array(Gnew['exaddmul'].loc[Gnew['expt']=='1'].value_counts().sort_index())\n",
    "addmulsf_acc_counts = np.array(Gnew['exaddmulsf'].loc[Gnew['expt']=='1'].value_counts().sort_index())\n",
    "\n",
    "# Do some chisq tests\n",
    "add_v_ex = stats.chisquare(exact_acc_counts,add_acc_counts)\n",
    "addmul_v_ex = stats.chisquare(exact_acc_counts,addmul_acc_counts)\n",
    "addmulsf_v_ex = stats.chisquare(exact_acc_counts,addmulsf_acc_counts)\n",
    "addmulsf_v_addmul = stats.chisquare(addmul_acc_counts,addmulsf_acc_counts)\n",
    "addmul_v_add = stats.chisquare(addmul_acc_counts,add_acc_counts)"
   ]
  },
  {
   "cell_type": "code",
   "execution_count": 30,
   "metadata": {},
   "outputs": [
    {
     "data": {
      "text/plain": [
       "Power_divergenceResult(statistic=120.4052767352, pvalue=5.1571375625113935e-28)"
      ]
     },
     "execution_count": 30,
     "metadata": {},
     "output_type": "execute_result"
    }
   ],
   "source": [
    "# additive versus exact match\n",
    "add_v_ex"
   ]
  },
  {
   "cell_type": "code",
   "execution_count": 31,
   "metadata": {},
   "outputs": [
    {
     "data": {
      "text/plain": [
       "Power_divergenceResult(statistic=14.528681037632445, pvalue=0.00013804185665392958)"
      ]
     },
     "execution_count": 31,
     "metadata": {},
     "output_type": "execute_result"
    }
   ],
   "source": [
    "# additive + multiplicative versus additive only\n",
    "addmul_v_add"
   ]
  },
  {
   "cell_type": "code",
   "execution_count": 32,
   "metadata": {},
   "outputs": [
    {
     "data": {
      "text/plain": [
       "Power_divergenceResult(statistic=302.95340314136126, pvalue=7.487461815873197e-68)"
      ]
     },
     "execution_count": 32,
     "metadata": {},
     "output_type": "execute_result"
    }
   ],
   "source": [
    "# additive + multiplicative + counting versus additive + multiplicative only\n",
    "addmulsf_v_addmul"
   ]
  },
  {
   "cell_type": "markdown",
   "metadata": {},
   "source": [
    "### Bias to rely on additive rules in Experiment 1"
   ]
  },
  {
   "cell_type": "code",
   "execution_count": 33,
   "metadata": {},
   "outputs": [
    {
     "data": {
      "text/plain": [
       "Power_divergenceResult(statistic=143.62499087165833, pvalue=4.29122866169321e-33)"
      ]
     },
     "execution_count": 33,
     "metadata": {},
     "output_type": "execute_result"
    }
   ],
   "source": [
    "# making the dataframe of expected compositional rules for novel numbers\n",
    "Gext = G.loc[G['num']>10].loc[G['expt'].isin(['1'])] # isolate one experiment, or look at it for both\n",
    "Gext[['correct','err','strat']] = Gext.groupby(\n",
    "    ['GID'])[['GID','base','cond','num','targ_gloss']].apply(lambda x: parseGloss(x,targ=True))\n",
    "Gext.loc[Gext['strat']=='tie','strat'] = 'add'\n",
    "\n",
    "# then compiling expected and observed rule-use by base-condition\n",
    "observed = Gnew.loc[Gnew['expt'].isin(['1'])].groupby(['base','strat'])[['num']].count().reset_index()\n",
    "expected = Gext.groupby(['base','strat'])[['num']].count().reset_index()\n",
    "\n",
    "# reformatting so we can run the chisq\n",
    "ex = expected.pivot(index='base', columns='strat', values='num').fillna(0)\n",
    "ob = observed.pivot(index='base', columns='strat', values='num').fillna(0)\n",
    "ex['prop_add'] = ex['add'] / (ex['mul'] + ex['add'])\n",
    "ob['prop_add'] = ob['add'] / (ob['mul'] + ob['add'])\n",
    "\n",
    "# and comparing them with a chi square test\n",
    "exp = expected.pivot(index='base', columns='strat', values='num').fillna(0).sum()\n",
    "obs = observed.pivot(index='base', columns='strat', values='num').fillna(0).sum()\n",
    "stats.chisquare(obs,exp)\n",
    "chisq_n = exp.sum() # our degrees of freedom + 1\n",
    "\n",
    "stats.chisquare(obs,exp)"
   ]
  },
  {
   "cell_type": "markdown",
   "metadata": {},
   "source": [
    "### Chisq tests for strategy prevalence in Experiment 2"
   ]
  },
  {
   "cell_type": "code",
   "execution_count": 34,
   "metadata": {},
   "outputs": [],
   "source": [
    "# We will compare success rates using different strategies\n",
    "exact_acc_counts = np.array(Gnew['exact_match'].loc[Gnew['expt']=='2'].loc[Gnew['cond']!='no_syntax'].value_counts().sort_index())\n",
    "add_acc_counts = np.array(Gnew['exadd'].loc[Gnew['expt']=='2'].loc[Gnew['cond']!='no_syntax'].value_counts().sort_index())\n",
    "addmul_acc_counts = np.array(Gnew['exaddmul'].loc[Gnew['expt']=='2'].loc[Gnew['cond']!='no_syntax'].value_counts().sort_index())\n",
    "addmulsf_acc_counts = np.array(Gnew['exaddmulsf'].loc[Gnew['expt']=='2'].loc[Gnew['cond']!='no_syntax'].value_counts().sort_index())\n",
    "\n",
    "# Do some chisq tests\n",
    "add_v_ex = stats.chisquare(exact_acc_counts,add_acc_counts)\n",
    "addmul_v_ex = stats.chisquare(exact_acc_counts,addmul_acc_counts)\n",
    "addmulsf_v_ex = stats.chisquare(exact_acc_counts,addmulsf_acc_counts)\n",
    "addmulsf_v_addmul = stats.chisquare(addmul_acc_counts,addmulsf_acc_counts)\n",
    "addmul_v_add = stats.chisquare(addmul_acc_counts,add_acc_counts)\n"
   ]
  },
  {
   "cell_type": "code",
   "execution_count": 35,
   "metadata": {},
   "outputs": [
    {
     "data": {
      "text/plain": [
       "Power_divergenceResult(statistic=0.028877043953267317, pvalue=0.8650632460567187)"
      ]
     },
     "execution_count": 35,
     "metadata": {},
     "output_type": "execute_result"
    }
   ],
   "source": [
    "# additive versus exact match\n",
    "add_v_ex"
   ]
  },
  {
   "cell_type": "code",
   "execution_count": 36,
   "metadata": {},
   "outputs": [
    {
     "data": {
      "text/plain": [
       "Power_divergenceResult(statistic=76.58913982505325, pvalue=2.104940323488171e-18)"
      ]
     },
     "execution_count": 36,
     "metadata": {},
     "output_type": "execute_result"
    }
   ],
   "source": [
    "# additive + multiplicative versus additive only\n",
    "addmul_v_add"
   ]
  },
  {
   "cell_type": "code",
   "execution_count": 37,
   "metadata": {},
   "outputs": [
    {
     "data": {
      "text/plain": [
       "Power_divergenceResult(statistic=138.6873216469629, pvalue=5.155555933610185e-32)"
      ]
     },
     "execution_count": 37,
     "metadata": {},
     "output_type": "execute_result"
    }
   ],
   "source": [
    "# additive + multiplicative + counting versus additive + multiplicative only\n",
    "addmulsf_v_addmul"
   ]
  },
  {
   "cell_type": "markdown",
   "metadata": {},
   "source": [
    "# <a name=\"figures\"></a> 7. Figures ([top](#top))"
   ]
  },
  {
   "cell_type": "markdown",
   "metadata": {},
   "source": [
    "## <a name=\"fig2\"></a> 7.1.  Figure 2 ([top](#top))"
   ]
  },
  {
   "cell_type": "code",
   "execution_count": 38,
   "metadata": {},
   "outputs": [
    {
     "name": "stderr",
     "output_type": "stream",
     "text": [
      "/Users/alles/anaconda3/lib/python3.7/site-packages/ipykernel_launcher.py:8: SettingWithCopyWarning: \n",
      "A value is trying to be set on a copy of a slice from a DataFrame.\n",
      "Try using .loc[row_indexer,col_indexer] = value instead\n",
      "\n",
      "See the caveats in the documentation: https://pandas.pydata.org/pandas-docs/stable/user_guide/indexing.html#returning-a-view-versus-a-copy\n",
      "  \n"
     ]
    },
    {
     "data": {
      "image/png": "[encoded data removed]",
      "text/plain": [
       "<Figure size 720x288 with 2 Axes>"
      ]
     },
     "metadata": {
      "needs_background": "light"
     },
     "output_type": "display_data"
    }
   ],
   "source": [
    "\n",
    "\n",
    "\n",
    "expts = ['1']                                                           # isolate one experiment, or look at it for both\n",
    "df0 = Q.loc[Q['expt'].isin(expts) & Q['generalized']==True]             # quiz trials\n",
    "df1 = Gnew.loc[Gnew['expt'].isin(expts) & Gnew['generalized']==True]    # generalization trials\n",
    "\n",
    "df1['strong_correct'] = df1['strategy_acc'].isin(['add','mul'])         # our exclusive accuracy measure for generalization trials\n",
    "\n",
    "\n",
    "bw = .2    # bar width - how wide should bars be?\n",
    "\n",
    "iv = 'base'\n",
    "dv0 = 'correct'\n",
    "dv1 = 'correct'\n",
    "dv2 = 'strong_correct'\n",
    "\n",
    "dat0 = get_err(df0,iv,dv0)\n",
    "dat1 = get_err(df1,iv,dv1)\n",
    "dat2 = get_err(df1,iv,dv2)\n",
    "\n",
    "\n",
    "f , (a1,a2) = plt.subplots(1,2, figsize=(10,4), sharey=True, gridspec_kw={'width_ratios': [7,1]})\n",
    "\n",
    "\n",
    "a1.bar(np.arange(len(dat0[iv]))-2*(bw/2),\n",
    "        height=dat0[dv0],\n",
    "        width=bw,\n",
    "        yerr=dat0['err'],\n",
    "        fill='lightgrey',color='lightgrey', #edgecolor='k',    # fill='lightgrey',color='lightgrey',# edgecolor='k',\n",
    "        error_kw={'linewidth':lw,'capsize':cs,'markeredgewidth':ew,'zorder':200})\n",
    "\n",
    "a1.bar(np.arange(len(dat1[iv])),\n",
    "        height=dat1[dv1],\n",
    "        width=bw,\n",
    "        yerr=dat1['err'],\n",
    "        fill='grey',color='grey', #edgecolor='k',    # fill='grey',color='grey',# edgecolor='k',\n",
    "        error_kw={'linewidth':lw,'capsize':cs,'markeredgewidth':ew,'zorder':200})\n",
    "\n",
    "\n",
    "a1.bar(np.arange(len(dat2[iv]))+2*(bw/2),\n",
    "        height=dat2[dv2],\n",
    "        width=bw,\n",
    "        yerr=dat2['err'],\n",
    "        fill='#424242',color='#424242', #edgecolor='k',    # fill='grey',color='grey',# edgecolor='k',\n",
    "        error_kw={'linewidth':lw,'capsize':cs,'markeredgewidth':ew,'zorder':200})\n",
    "\n",
    "\n",
    "a1.set_title(\"Recall vs Generalization Accuracy\")\n",
    "\n",
    "a1.set_xlabel(\"Base\")\n",
    "a1.set_xticks([0,1,2,3,4,5])\n",
    "a1.set_xticklabels(['2','3','4','5','8','10'])\n",
    "\n",
    "a1.set_ylabel(\"Accuracy\")\n",
    "a1.set_yticks([0,1])    # [0,.2,.8,1]\n",
    "a1.set_yticklabels(['0','1'])    # ['0','.2','.8','1']\n",
    "a1.set_ylim((0,1))\n",
    "# a.yaxis.tick_right()\n",
    "a1.yaxis.set_label_coords(-.02,.5)\n",
    "\n",
    "newFontSize([a1],fs=18)\n",
    "\n",
    "plt.tight_layout()\n",
    "\n",
    "\n",
    "\n",
    "\n",
    "\n",
    "\n",
    "\n",
    "\n",
    "\n",
    "\n",
    "iv = 'expt'\n",
    "dv0 = 'correct'\n",
    "dv1 = 'correct'\n",
    "dv2 = 'strong_correct'\n",
    "\n",
    "dat0 = get_err(df0,iv,dv0)\n",
    "dat1 = get_err(df1,iv,dv1)\n",
    "dat2 = get_err(df1,iv,dv2)\n",
    "\n",
    "\n",
    "a2.bar(np.arange(len(dat0[iv]))-2*(bw/2),\n",
    "        height=dat0[dv0],\n",
    "        width=bw,\n",
    "        yerr=dat0['err'],\n",
    "        fill='lightgrey',color='lightgrey', #edgecolor='k',    # fill='lightgrey',color='lightgrey',# edgecolor='k',\n",
    "        error_kw={'linewidth':lw,'capsize':cs,'markeredgewidth':ew,'zorder':200})\n",
    "\n",
    "a2.bar(np.arange(len(dat1[iv])),\n",
    "        height=dat1[dv1],\n",
    "        width=bw,\n",
    "        yerr=dat1['err'],\n",
    "        fill='grey',color='grey', #edgecolor='k',    # fill='grey',color='grey',# edgecolor='k',\n",
    "        error_kw={'linewidth':lw,'capsize':cs,'markeredgewidth':ew,'zorder':200})\n",
    "\n",
    "\n",
    "a2.bar(np.arange(len(dat2[iv]))+2*(bw/2),\n",
    "        height=dat2[dv2],\n",
    "        width=bw,\n",
    "        yerr=dat2['err'],\n",
    "        fill='#424242',color='#424242', #edgecolor='k',    # fill='grey',color='grey',# edgecolor='k',\n",
    "        error_kw={'linewidth':lw,'capsize':cs,'markeredgewidth':ew,'zorder':200})\n",
    "\n",
    "\n",
    "# a2.set_title(\"Ditto\")\n",
    "# a2.set_xlabel(\"All\")\n",
    "a2.set_xticks([0])\n",
    "a2.set_xticklabels(['All Bases'])\n",
    "\n",
    "# a2.set_ylabel(\"Accuracy\")\n",
    "a2.set_yticks([0,1])    # [0,.2,.8,1]\n",
    "a2.set_yticklabels(['0','1'])    # ['0','.2','.8','1']\n",
    "a2.set_ylim((0,1))\n",
    "a2.yaxis.tick_right()\n",
    "a2.yaxis.set_label_coords(-.02,.5)\n",
    "\n",
    "newFontSize([a2],fs=18)\n",
    "\n",
    "plt.tight_layout()\n"
   ]
  },
  {
   "cell_type": "markdown",
   "metadata": {},
   "source": [
    "## <a name=\"fig3\"></a> 7.2.  Figure 3 ([top](#top))"
   ]
  },
  {
   "cell_type": "code",
   "execution_count": 43,
   "metadata": {},
   "outputs": [
    {
     "data": {
      "image/png": "[encoded data removed]",
      "text/plain": [
       "<Figure size 864x288 with 4 Axes>"
      ]
     },
     "metadata": {
      "needs_background": "light"
     },
     "output_type": "display_data"
    }
   ],
   "source": [
    "f , (a1,a2,aBlank,a3) = plt.subplots(1,4,figsize=(12,4), gridspec_kw={'width_ratios': [5,5,1,4]})\n",
    "\n",
    "aBlank.axis(\"off\")\n",
    "\n",
    "cond_clrs =['black','blue','red']\n",
    "\n",
    "# load up the data to plot\n",
    "colour_dict = {'prim':'k','add':'#820303','mult':'#030782'}\n",
    "\n",
    "plot1s = []\n",
    "plot2s = []\n",
    "\n",
    "RTymax = 0\n",
    "\n",
    "for i,rule in enumerate(['prim','add','mult']):    \n",
    "    dat0 = get_err(Q1, rule, 'correct')\n",
    "    dat1 = get_err(Q1, rule, 'RT')\n",
    "    \n",
    "    plot1 = a1.bar(x=i,\n",
    "                   height=dat0.at[1,'correct'],\n",
    "                   yerr=dat0.at[1,'err'],\n",
    "                   color=\"white\", alpha=1, edgecolor=colour_dict[rule])\n",
    "    \n",
    "    plot2 = a2.bar(x=i,\n",
    "                   height=dat1.at[1,'RT'],\n",
    "                   yerr=dat1.at[1,'err'],\n",
    "                   color=\"white\", alpha=1, edgecolor=colour_dict[rule])\n",
    "\n",
    "    # take whichever is higher: the current max or the highest value here\n",
    "    RTymax = max(RTymax,dat1.at[1,'RT'] + dat1.at[1,'err'])\n",
    "    \n",
    "    plot1s.append(plot1)\n",
    "    plot2s.append(plot2)\n",
    "\n",
    "\n",
    "\n",
    "# Now figure layout etc\n",
    "a1.set_title(\"Accuracy\")\n",
    "a1.set_ylabel(\"Accuracy\")\n",
    "a1.set_ylim(0,1)\n",
    "a1.set_yticks([0,1])\n",
    "a1.set_yticklabels([\"0\",\"1\"])\n",
    "a1.set_xticks([0,1,2])\n",
    "a1.set_xticklabels(['Root','+','×'])\n",
    "\n",
    "a2.set_title(\"Response Time\")\n",
    "a2.set_ylabel(\"\",rotation=270)\n",
    "a2.yaxis.tick_right()\n",
    "a2.yaxis.set_label_position(\"right\")\n",
    "a2.set_ylim(0,np.ceil(RTymax))\n",
    "a2.set_yticks(np.arange(np.ceil(RTymax)+1))\n",
    "a2.set_yticklabels([str(int(x))+'s' for x in np.arange(np.ceil(RTymax)+1)])\n",
    "a2.set_xticks([0,1,2])\n",
    "a2.set_xticklabels(['Root','+','×'])\n",
    "\n",
    "\n",
    "\n",
    "\n",
    "\n",
    "\n",
    "\n",
    "\n",
    "\n",
    "\n",
    "\n",
    "\n",
    "\n",
    "\n",
    "\n",
    "\n",
    "\n",
    "\n",
    "bw = .3    # bar width - how wide should bars be?\n",
    "\n",
    "dv =  'strategy_acc'\n",
    "\n",
    "# How will we map strategies to display colours?\n",
    "strat_colours = {\"add\":     \"#820303\", \"add_sf\":  \"#820303\",\n",
    "                 \"mul\":     \"#030782\", \"mul_sf\":  \"#030782\",\n",
    "                 \"unit\":    \"k\",       \"exp\":     \"k\"}\n",
    "\n",
    "\n",
    "# expected prop additive\n",
    "prop_expd_add = ((5/5)*31 + (5/5)*30 + (4/5)*32 + (4/5)*30 + (9/10)*30 + (9/10)*29) / (31+30+32+30+30+29)\n",
    "\n",
    "# actual prop additive (generous)\n",
    "prop_actl_add = df1[dv].value_counts()['add'] / df1[dv].value_counts().sum()\n",
    "\n",
    "\n",
    "\n",
    "a3.bar(0-bw/2,\n",
    "        height= prop_expd_add,\n",
    "        width=bw,\n",
    "        fill='lightgrey', color='lightgrey',alpha=1, edgecolor=None,\n",
    "        error_kw={'linewidth':lw,'capsize':cs,'markeredgewidth':ew})\n",
    "\n",
    "a3.bar(0+bw/2,\n",
    "        height= prop_actl_add,\n",
    "        width=bw,\n",
    "        fill='grey', color='grey',alpha=1, edgecolor=None,\n",
    "        error_kw={'linewidth':lw,'capsize':cs,'markeredgewidth':ew})\n",
    "\n",
    "\n",
    "\n",
    "# expected prop multiplicative\n",
    "prop_expd_mul = ((0/5)*31 + (1/5)*30 + (5/5)*32 + (5/5)*30 + (5/10)*30 + (1/10)*29) / (31+30+32+30+30+29)\n",
    "\n",
    "# actual prop multiplicative (generous)\n",
    "prop_actl_mul = df1[dv].value_counts()['mul'] / df1[dv].value_counts().sum()\n",
    "\n",
    "\n",
    "    \n",
    "a3.bar(1-bw/2,\n",
    "        height= prop_expd_mul,\n",
    "        width=bw,\n",
    "        fill='lightgrey', color='lightgrey',alpha=1, edgecolor=None,\n",
    "        error_kw={'linewidth':lw,'capsize':cs,'markeredgewidth':ew})\n",
    "\n",
    "a3.bar(1+bw/2,\n",
    "        height= prop_actl_mul,\n",
    "        width=bw,\n",
    "        fill='grey', color='grey',alpha=1, edgecolor=None,\n",
    "        error_kw={'linewidth':lw,'capsize':cs,'markeredgewidth':ew})\n",
    "\n",
    "\n",
    "\n",
    "a3.set_title(\"Strategy Use\")\n",
    "a3.set_ylabel(\"\")\n",
    "a3.set_yticks([0,1])\n",
    "a3.set_yticklabels(['0%','100%'])\n",
    "a3.set_ylim((0,1))\n",
    "a3.yaxis.tick_right()\n",
    "# a3.yaxis.set_label_coords(-.02,.5)\n",
    "a3.yaxis.set_label_position(\"right\")\n",
    "\n",
    "\n",
    "\n",
    "# a3.set_xlabel(\"Base\")\n",
    "a3.set_xticks([0,1])\n",
    "a3.set_xticklabels(['+','×'])\n",
    "\n",
    "plt.tight_layout()\n",
    "newFontSize([a1,a2,a3],fs=18)\n",
    "\n",
    "# f.savefig('../results/plots/fig3/frame_{}.png'.format(frame), bbox_inches=\"tight\")  "
   ]
  },
  {
   "cell_type": "markdown",
   "metadata": {},
   "source": [
    "## <a name=\"fig4\"></a> 7.3.  Figure 4 ([top](#top))"
   ]
  },
  {
   "cell_type": "code",
   "execution_count": 44,
   "metadata": {},
   "outputs": [
    {
     "data": {
      "image/png": "[encoded data removed]",
      "text/plain": [
       "<Figure size 576x576 with 4 Axes>"
      ]
     },
     "metadata": {
      "needs_background": "light"
     },
     "output_type": "display_data"
    }
   ],
   "source": [
    "f , ((a1,a2),(a3,a4)) = plt.subplots(2,2,figsize=(8,8), sharex=True)\n",
    "\n",
    "cond_clrs =['black','blue','red']\n",
    "\n",
    "dat0 = get_err(Q2,'cond','correct')\n",
    "dat1 = get_err(Q2,'cond','RT')\n",
    "\n",
    "a1plot = a1.bar(np.arange(3),\n",
    "       height=dat0['correct'],\n",
    "       yerr=dat0['err'],color=\"white\",alpha=1)\n",
    "\n",
    "a2plot = a2.bar(np.arange(3),\n",
    "       height=dat1['RT'],\n",
    "       yerr=dat1['err'],color=\"white\",alpha=1)\n",
    "\n",
    "datQ1 = get_err(Q1,'base','correct')\n",
    "a1.axhline(datQ1.at[3,'correct'], c='k', linestyle='--')\n",
    "a2.axhline(datQ1.at[3,'correct'], c='k', linestyle='--')\n",
    "\n",
    "\n",
    "\n",
    "\n",
    "\n",
    "dat0 = get_err(M,'cond','correct')\n",
    "dat1 = get_err(M,'cond','RT')\n",
    "\n",
    "a3plot = a3.bar(np.arange(3),\n",
    "       height=dat0['correct'],\n",
    "       yerr=dat0['err'],color=\"white\",alpha=1)\n",
    "\n",
    "a4plot = a4.bar(np.arange(3),\n",
    "       height=dat1['RT'],\n",
    "       yerr=dat1['err'],color=\"white\",alpha=1)\n",
    "\n",
    "\n",
    "for i in np.arange(3):\n",
    "    a1plot[i].set_edgecolor(cond_clrs[i])\n",
    "    a2plot[i].set_edgecolor(cond_clrs[i])\n",
    "    a3plot[i].set_edgecolor(cond_clrs[i])\n",
    "    a4plot[i].set_edgecolor(cond_clrs[i])\n",
    "\n",
    "\n",
    "a1.set_title(\"Accuracy\")\n",
    "a1.set_ylabel(\"Word Recall\")\n",
    "a1.set_xticks([])\n",
    "a1.set_xticklabels([])\n",
    "\n",
    "a2.set_title(\"RT\")\n",
    "a2.set_ylabel(\"\")\n",
    "a2.yaxis.tick_right()\n",
    "a2.yaxis.set_label_position(\"right\")\n",
    "a2.set_xticks([])\n",
    "a2.set_xticklabels([])\n",
    "\n",
    "a3.set_title(\"\")\n",
    "a3.set_ylabel(\"Magnitude Comparison\")\n",
    "a3.set_xticks([0,1,2])\n",
    "a3.set_xticklabels([\"R+O\",\"Rules\",\"Order\"])\n",
    "\n",
    "a4.set_title(\"\")\n",
    "a4.set_ylabel(\"\")\n",
    "a4.yaxis.tick_right()\n",
    "a4.yaxis.set_label_position(\"right\")\n",
    "a4.set_xticks([0,1,2])\n",
    "a4.set_xticklabels([\"R+O\",\"Rules\",\"Order\"])\n",
    "\n",
    "\n",
    "plt.tight_layout()\n",
    "newFontSize([a1,a2,a3,a4],fs=18)\n",
    "\n",
    "# f.savefig('../results/plots/fig3/frame_{}.png'.format(frame), bbox_inches=\"tight\")  "
   ]
  },
  {
   "cell_type": "code",
   "execution_count": 45,
   "metadata": {},
   "outputs": [
    {
     "data": {
      "image/png": "[encoded data removed]",
      "text/plain": [
       "<Figure size 864x432 with 2 Axes>"
      ]
     },
     "metadata": {
      "needs_background": "light"
     },
     "output_type": "display_data"
    }
   ],
   "source": [
    "f , (a1,a2) = plt.subplots(1,2,figsize=(12,6))\n",
    "\n",
    "cond_clrs =['black','blue','red']\n",
    "\n",
    "# load up the data to plot\n",
    "dat0 = get_err(Q2,'cond','correct')\n",
    "dat1 = get_err(Q2,'cond','RT')\n",
    "dat2 = get_err(M,'cond','correct')\n",
    "dat3 = get_err(M,'cond','RT')\n",
    "datQ1 = get_err(Q1,'base','correct')\n",
    "\n",
    "\n",
    "a1plot = a1.errorbar(np.arange(3) - .05,\n",
    "                     y=dat0['correct'],\n",
    "                     yerr=dat0['err'],\n",
    "                     c='k',\n",
    "                     label='Recall')\n",
    "\n",
    "a2plot = a2.errorbar(np.arange(3) - .05,\n",
    "                     y=dat1['RT'],\n",
    "                     yerr=dat1['err'],\n",
    "                     c='k')\n",
    "\n",
    "a3plot = a1.errorbar(np.arange(3) + .05,\n",
    "                     y=dat2['correct'],\n",
    "                     yerr=dat2['err'],\n",
    "                     c='r',\n",
    "                     label='Magnitude')\n",
    "\n",
    "a4plot = a2.errorbar(np.arange(3) + .05,\n",
    "                     y=dat3['RT'],\n",
    "                     yerr=dat3['err'],\n",
    "                     c='r')\n",
    "\n",
    "\n",
    "a1.axhline(datQ1.at[3,'correct'], c='k', linestyle='--')\n",
    "a2.axhline(datQ1.at[3,'correct'], c='k', linestyle='--')\n",
    "\n",
    "\n",
    "# Now figure layout etc\n",
    "a1.set_title(\"Accuracy\")\n",
    "a1.set_ylabel(\"Accuracy\")\n",
    "a1.set_ylim(0,1)\n",
    "a1.set_yticks([0,1])\n",
    "a1.set_yticklabels([\"0\",\"1\"])\n",
    "a1.set_xticks([0,1,2])\n",
    "a1.set_xticklabels(['R+O','Rules','Order'])\n",
    "\n",
    "a2.set_title(\"Response Time\")\n",
    "a2.set_ylabel(\"Seconds\",rotation=270)\n",
    "a2.set_ylim(0,np.ceil(max(np.max(dat1['RT']+dat1['err']),np.max(dat3['RT']+dat3['err']))))\n",
    "a2.yaxis.tick_right()\n",
    "a2.yaxis.set_label_position(\"right\")\n",
    "a2.set_yticks([0,1,2,3])\n",
    "a2.set_xticks([0,1,2])\n",
    "a2.set_xticklabels(['R+O','Rules','Order'])\n",
    "\n",
    "\n",
    "a1.legend(handles=[a1plot, a3plot], fontsize=18)\n",
    "\n",
    "plt.tight_layout()\n",
    "newFontSize([a1,a2,a3,a4],fs=18)\n",
    "\n",
    "# f.savefig('../results/plots/fig3/frame_{}.png'.format(frame), bbox_inches=\"tight\")  "
   ]
  },
  {
   "cell_type": "markdown",
   "metadata": {},
   "source": [
    "## <a name=\"simpsons\"></a> 8.  Simpsons Diversity Measure ([top](#top))"
   ]
  },
  {
   "cell_type": "code",
   "execution_count": 46,
   "metadata": {},
   "outputs": [
    {
     "name": "stdout",
     "output_type": "stream",
     "text": [
      "Index: 0.803, CI: [0.7271 , 0.8789]\n",
      "Index: 0.7692, CI: [0.6761 , 0.8623]\n"
     ]
    }
   ],
   "source": [
    "gRULES_ORDER = G[(G['expt']=='2')&(G['syntax']==True)&(G['count']==True)].loc[G['num']>10]\n",
    "gRULES_ONLY = G[(G['expt']=='2')&(G['syntax']==True)&(G['count']==False)].loc[G['num']>10]\n",
    "\n",
    "\n",
    "classification = 'num'\n",
    "\n",
    "# get the estimate for Simpson's diversity index within each condition\n",
    "\n",
    "def getSimpsons(g,classification):\n",
    "    simpsons = g.groupby([classification,'gloss'])[['gloss']].count(\n",
    "    ).groupby(classification)[['gloss']].apply(\n",
    "        lambda x: 1 - (sum([y*(y-1) for y in list(x['gloss'])]) / \n",
    "        (x['gloss'].sum()*(x['gloss'].sum() - 1))))\n",
    "    simpsons.name = \"Simpson's Diversity Index\"\n",
    "\n",
    "    # now bootstrap some uncertainty around that measure\n",
    "    subset_sims = np.zeros([len(g[classification].unique()),0])\n",
    "\n",
    "    for i in range(500):\n",
    "        np.random.seed(i)\n",
    "        subset_games = np.random.choice(g.GID.unique(), len(g.GID.unique()), replace=True)\n",
    "        subset_g = g[g['GID'].apply(lambda x: x in subset_games)]\n",
    "        cur_sim = np.array(subset_g.groupby([classification,'gloss'])[['gloss']].count(\n",
    "        ).groupby(classification)[['gloss']].apply(\n",
    "            lambda x: 1 - (sum([y*(y-1) for y in list(x['gloss'])]) / \n",
    "                           (x['gloss'].sum()*(x['gloss'].sum() - 1)))))\n",
    "\n",
    "        subset_sims = np.append(subset_sims,np.array([cur_sim]).T,axis=1)\n",
    "\n",
    "    upperCI = np.quantile(subset_sims, .975, axis=1, keepdims = True, interpolation = 'nearest') # can't use 'method' because my python is outdated\n",
    "    lowerCI = np.quantile(subset_sims, .025, axis=1, keepdims = True, interpolation = 'nearest') # can't use 'method' because my python is outdated\n",
    "    upperCI = pd.DataFrame(np.squeeze(upperCI), columns=['upper']).reset_index().rename(columns={'index':classification})\n",
    "    lowerCI = pd.DataFrame(np.squeeze(lowerCI), columns=['lower']).reset_index().rename(columns={'index':classification})\n",
    "    \n",
    "    measured_avg = simpsons.mean()\n",
    "    \n",
    "    return {'measured':pd.DataFrame(simpsons).reset_index(), 'upperCI':upperCI, 'lowerCI':lowerCI,\n",
    "            'measured_avg':measured_avg, 'err_avg':  upperCI['upper'].mean() - measured_avg}\n",
    "\n",
    "\n",
    "simpsons_dict_RULES_ORDER = getSimpsons(gRULES_ORDER,'num')\n",
    "simpsons_dict_RULES_ONLY = getSimpsons(gRULES_ONLY,'num')\n",
    "\n",
    "print(\"Index: {}, CI: [{} , {}]\".format(np.round(simpsons_dict_RULES_ORDER['measured_avg'],4),\n",
    "                                        np.round(simpsons_dict_RULES_ORDER['measured_avg']-simpsons_dict_RULES_ORDER['err_avg'],4),\n",
    "                                        np.round(simpsons_dict_RULES_ORDER['measured_avg']+simpsons_dict_RULES_ORDER['err_avg'],4)))\n",
    "\n",
    "      \n",
    "print(\"Index: {}, CI: [{} , {}]\".format(np.round(simpsons_dict_RULES_ONLY['measured_avg'],4),\n",
    "                                        np.round(simpsons_dict_RULES_ONLY['measured_avg']-simpsons_dict_RULES_ONLY['err_avg'],4),\n",
    "                                        np.round(simpsons_dict_RULES_ONLY['measured_avg']+simpsons_dict_RULES_ONLY['err_avg'],4)))\n"
   ]
  },
  {
   "cell_type": "code",
   "execution_count": null,
   "metadata": {},
   "outputs": [],
   "source": []
  }
 ],
 "metadata": {
  "kernelspec": {
   "display_name": "Python 3",
   "language": "python",
   "name": "python3"
  },
  "language_info": {
   "codemirror_mode": {
    "name": "ipython",
    "version": 3
   },
   "file_extension": ".py",
   "mimetype": "text/x-python",
   "name": "python",
   "nbconvert_exporter": "python",
   "pygments_lexer": "ipython3",
   "version": "3.7.2"
  }
 },
 "nbformat": 4,
 "nbformat_minor": 2
}
